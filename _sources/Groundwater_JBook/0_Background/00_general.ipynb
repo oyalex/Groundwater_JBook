{
 "cells": [
  {
   "cell_type": "markdown",
   "metadata": {},
   "source": [
    "# About this Groundwater Course and Contents\n",
    "\n",
    "The contents provided in this website that forms an interactive book, is based on the Groundwater course created and lectured by \n",
    "Prof. Rudolf Liedl from the [Institute of Groundwater Manangement](https://tu-dresden.de/bu/umwelt/hydro/igw) of [TU Dresden](www.tu-dresden.de).\n",
    "\n",
    "The contents has been used as an _Introductory_ course on Groundwater for M.Sc. level students from a multiple academic backgrounds. \n",
    "Prof. Liedl has delivered most of the contents, that can be found in this site, for over 15 years at TU Dresden.\n",
    "The structure of this interactive book is based on the **contents** developed for the class course  \n",
    "The **texts** provided in this interactive book is mostly based on the Prof. Liedl's lecture slides and the **interactive codes** are conversion from MS Excel&reg; spreadsheet to Python. \n",
    "\n",
    "> **This interactive web-book in fact  is dedicated to Prof. Rudolf Liedl efforts to teach, train and inspire students over the years.**\n",
    "\n"
   ]
  },
  {
   "cell_type": "markdown",
   "metadata": {},
   "source": [
    "## Basic contents structure\n",
    "\n",
    "The contents of this interactive book can be broadly divided in the following three groups:\n",
    "\n",
    "1. Aquifer properties and groundwater flow\n",
    "2. Transport in groundwater\n",
    "3. Groundwater Modelling\n",
    "\n",
    "The first group makes the core of this course. Here the very basic of groundwater, subsurface structure, properties that quantify groundwater mass and volume budgets, and the flow and other dynamics processes, e.g., abstraction using wells.\n",
    "\n",
    "The **transport in groundwater** topics focus on the quality aspects of groundwater. In particular, transport equations with and without inclusion of chemical reactions (e.g., sorption, decay) are considered. Eventually, few analytical solutions of transport problems are discussed.\n",
    "\n",
    "The **Groundwater Modelling** is for introducing the realm of computer modelling of groundwater and transport. Fundamentals of mathematical modelling, e.g., finite different methods, is introduced. The focus remains towards eventual use of MODFLOW (Flopy and Modelmuse interface), which is introduced in a short tutorial form.\n"
   ]
  },
  {
   "cell_type": "markdown",
   "metadata": {},
   "source": [
    "## What do you need in this course?\n",
    "\n",
    "You will need the following:\n",
    "\n",
    "1. Laptop/Smartphone/tablet more convenient with internet connection\n",
    "2. Recommended is installed JUPYTER interface.\n",
    "\n",
    "The course contents can be received as:\n",
    "\n",
    "1. Lectures: Texts reading and interactive manipulation of codes/problems. Short questions (self-test) should be used to check the understanding of the contents.\n",
    "\n",
    "2. Tutorials: Should be understand by manipulating the existing codes. The tutorials should be then independently solved using _JUPYTER_ interface (Mybinder or Personal system)\n",
    "\n",
    "3. Additional tools: The course provides several simulation tools- e.g., sieve analysis, effective conductivity, Advection-dispersion etc. These tools (also _Python_) provide high-level interactivity. These tools should be used to enhance learning.\n",
    "\n",
    "4. Question banks/exam questions should be used to self-check the level of understanding."
   ]
  },
  {
   "cell_type": "code",
   "execution_count": null,
   "metadata": {},
   "outputs": [],
   "source": []
  }
 ],
 "metadata": {
  "kernelspec": {
   "display_name": "Python 3",
   "language": "python",
   "name": "python3"
  },
  "language_info": {
   "codemirror_mode": {
    "name": "ipython",
    "version": 3
   },
   "file_extension": ".py",
   "mimetype": "text/x-python",
   "name": "python",
   "nbconvert_exporter": "python",
   "pygments_lexer": "ipython3",
   "version": "3.7.2"
  }
 },
 "nbformat": 4,
 "nbformat_minor": 4
}
