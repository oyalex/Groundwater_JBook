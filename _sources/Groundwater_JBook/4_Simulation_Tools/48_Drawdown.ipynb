{
 "cells": [
  {
   "cell_type": "markdown",
   "metadata": {},
   "source": [
    "# Drawdown calculation using equations"
   ]
  },
  {
   "cell_type": "markdown",
   "metadata": {},
   "source": [
    "# Task\n",
    "A community is installing a new well in a regionally confined aquifer with a transmissivity of $248.5 \\frac{m^{2}}{day}$ and the storativity of $0.0002$. the planned pumping rate is $4088.24 \\frac{m^{3}}{day}$. There are several nearby wells tapping the same aquifer. and the hydrogeologist in charge needs to know if the new well will cause significant interference with these wells. compute the theoretical drawdown caused by the new well after $30$ days of continuous pumping at the distances of $50m$, $250m$, and $1000m$ .<br> \n",
    "\n",
    "```{sidebar}Source\n",
    "\"Applied Hydrogeology\" by C.W. Fetter\n",
    "```"
   ]
  },
  {
   "cell_type": "code",
   "execution_count": 2,
   "metadata": {},
   "outputs": [],
   "source": [
    "import scipy.special as sc\n",
    "import numpy as np\n",
    "import math\n",
    "import matplotlib.pyplot as plt\n",
    "import pandas as pd"
   ]
  },
  {
   "cell_type": "code",
   "execution_count": 4,
   "metadata": {},
   "outputs": [
    {
     "name": "stdout",
     "output_type": "stream",
     "text": [
      "\u001b[1mA. Given information:\u001b[0m \n",
      "Transmissiivity = 248.5 m²/d\n",
      "Storitivity = 0.0002 \n",
      "Pumping rate = 4088.24 m³/d\n",
      "Dispersivity = 30 m\n",
      "Time=50 d\n",
      "First distance from the well=50 m\n",
      "Second distance from the well=250 m\n",
      "Third distance from the well=1000 m \n",
      "\n",
      "\u001b[1mB. Calculation of u and w(u) for each distance of r from the well\u001b[0m \n",
      "\n",
      "\u001b[1mC. Output:\u001b[0m\n",
      "Drawdown for 50 m: 13.64017316820474\n",
      "Drawdown for 250 m: 9.425551011675893\n",
      "Drawdown for 1000 m: 5.787480456133192 \n",
      "\n",
      "Based on the output, by increasing distance from the well the drawdown will decresae \n"
     ]
    }
   ],
   "source": [
    "# A.input\n",
    "T=248.5 #m^2day Transmissivty\n",
    "S=0.0002 # Storativity\n",
    "Q=4088.24  #m^3/day pumping rate\n",
    "t=30 # days\n",
    "r1=50  #m first distance from the well\n",
    "r2=250  #m second distance from the well\n",
    "r3=1000  #m third distance from the well\n",
    "print(\"\\033[1mA. Given information:\\033[0m \")\n",
    "print(\"Transmissiivity = {} m\\u00b2/d\\nStoritivity = {} \\nPumping rate = {} m\\u00b3/d\\nDispersivity = {} m\\nTime={} d\" .format(T, S, Q, t, r1, r2, r3))\n",
    "print(\"First distance from the well={} m\\nSecond distance from the well={} m\\nThird distance from the well={} m\".format(r1, r2, r3),\"\\n\")\n",
    "\n",
    "# B.calculate\n",
    "print(\"\\033[1mB. Calculation of u and w(u) for each distance of r from the well\\033[0m\",\"\\n\")\n",
    "u1= (S*(r1**2))/(4*T*t)\n",
    "W1=-sc.expi(u1)\n",
    "s1=(Q/(4*math.pi*T)*W1)\n",
    "\n",
    "u2= (S*(r2**2))/(4*T*t)\n",
    "W2=-sc.expi(u2)\n",
    "s2=(Q/(4*math.pi*T)*W2)\n",
    "\n",
    "u3= (S*(r3**2))/(4*T*t)\n",
    "W3=-sc.expi(u3)\n",
    "s3=(Q/(4*math.pi*T)*W3) \n",
    "\n",
    "# C.output\n",
    "print(\"\\033[1mC. Output:\\033[0m\")\n",
    "print(\"Drawdown for 50 m:\", s1)\n",
    "print(\"Drawdown for 250 m:\", s2)\n",
    "print(\"Drawdown for 1000 m:\", s3, \"\\n\")\n",
    "print(\"Based on the output, by increasing distance from the well the drawdown will decresae \")\n"
   ]
  },
  {
   "cell_type": "code",
   "execution_count": 5,
   "metadata": {},
   "outputs": [
    {
     "name": "stdout",
     "output_type": "stream",
     "text": [
      "Shape of the drawdown ner the well: \n"
     ]
    },
    {
     "data": {
      "text/plain": [
       "[<matplotlib.lines.Line2D at 0x25003be5a88>]"
      ]
     },
     "execution_count": 5,
     "metadata": {},
     "output_type": "execute_result"
    },
    {
     "data": {
      "image/png": "[encoded data removed]",
      "text/plain": [
       "<Figure size 432x288 with 1 Axes>"
      ]
     },
     "metadata": {
      "needs_background": "light"
     },
     "output_type": "display_data"
    }
   ],
   "source": [
    "print(\"Shape of the drawdown ner the well: \")\n",
    "Drawdown=(s1, s2, s3)\n",
    "Distance=(r1, r2, r3)\n",
    "plt.plot(Distance, Drawdown)"
   ]
  },
  {
   "cell_type": "code",
   "execution_count": null,
   "metadata": {},
   "outputs": [],
   "source": []
  },
  {
   "cell_type": "code",
   "execution_count": null,
   "metadata": {},
   "outputs": [],
   "source": []
  }
 ],
 "metadata": {
  "kernelspec": {
   "display_name": "Python 3",
   "language": "python",
   "name": "python3"
  },
  "language_info": {
   "codemirror_mode": {
    "name": "ipython",
    "version": 3
   },
   "file_extension": ".py",
   "mimetype": "text/x-python",
   "name": "python",
   "nbconvert_exporter": "python",
   "pygments_lexer": "ipython3",
   "version": "3.8.5"
  }
 },
 "nbformat": 4,
 "nbformat_minor": 4
}
