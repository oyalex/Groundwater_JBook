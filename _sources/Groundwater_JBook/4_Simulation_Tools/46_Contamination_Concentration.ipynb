{
 "cells": [
  {
   "cell_type": "markdown",
   "metadata": {},
   "source": [
    "# Contaminant Concentration"
   ]
  },
  {
   "cell_type": "markdown",
   "metadata": {},
   "source": [
    "\n",
    "## Task 1\n",
    "A saline solution with a concentration of 370mg/l is itroduced to a 2-m-longsand column in which the pores are initially filled with distilled water.If the solution drains through the column at an average linear velocity of 0.79 m/day and the dynamic dispersivity of the sand columnis 15 cm, what would the conceration of the effluent be at 1.8 days after the flow begins?\n",
    "\n",
    "source: \"Applied Hydrogeology\" by C.W. Fetter <br>\n"
   ]
  },
  {
   "cell_type": "code",
   "execution_count": 2,
   "metadata": {},
   "outputs": [],
   "source": [
    "import math\n",
    "import scipy.special as sc"
   ]
  },
  {
   "cell_type": "code",
   "execution_count": 3,
   "metadata": {},
   "outputs": [
    {
     "name": "stdout",
     "output_type": "stream",
     "text": [
      "A. Given information: \n",
      "Initial concentration = 370 mg/l\n",
      "length of the sand column = 2 m\n",
      "Linear velocity of groundwater flow = 0.79 m/d\n",
      "Dispersivity = 0.15 m\n",
      "Time=1.8 d \n",
      "\n",
      "B. Calculations: \n",
      "Error function of Y [erfc(Y)] is negligble or zero\n",
      "\n",
      "C. Output: \n",
      "Concentration after 1.8 days is:  69.59423437036702 mg/l\n"
     ]
    }
   ],
   "source": [
    "# A.inputs\n",
    "C0 = 370  #mg/l initial concentration\n",
    "L = 2 #m length of the sand column\n",
    "Vx = 0.79  #m/d linear velocity of groundwater flow\n",
    "Disp = 0.15 #m dispersivity of sand column\n",
    "t = 1.8  #days after the flow begins\n",
    "print(\"A. Given information: \")\n",
    "print(\"Initial concentration = {} mg/l\\nlength of the sand column = {} m\\nLinear velocity of groundwater flow = {} m/d\\nDispersivity = {} m\\nTime={} d\".format(C0, L, Vx, Disp, t),\"\\n\")\n",
    "\n",
    "\n",
    "\n",
    "# B.Calculations of :\n",
    "DL=Disp*Vx # longitudinal dispersivity coefficient\n",
    "\n",
    "X=(L-(Vx*t))/(2*((DL*t)**0.5))#  Error functions\n",
    "Y=(L+(Vx*t))/(2*((DL*t)**0.5))#  Error functions\n",
    "C=(C0/2)*(sc.erfc(X)+(math.exp((Vx*L)/DL)*sc.erfc(Y)))# Concentration after t days\n",
    "\n",
    "#  Defining a concentration function and conditional statemen based on error functions\n",
    "print(\"B. Calculations: \")\n",
    "\n",
    "if X>3 and Y<3:\n",
    "    sc.erfc(X)==0, print(\"Error function of X [erfc(X)] is negligible or zero\\n\")\n",
    "    C=(C0/2)*(math.exp((Vx*L)/DL)*sc.erfc(Y))\n",
    "    rsults=C  \n",
    "else :\n",
    "    (math.exp((Vx*L)/DL)*sc.erfc(Y))==0, print(\"Error function of Y [erfc(Y)] is negligble or zero\\n\")\n",
    "    C=(C0/2)*(math.erfc(X))\n",
    "    results= C\n",
    "\n",
    "    \n",
    "# C.output\n",
    "print(\"C. Output: \")\n",
    "print(\"Concentration after 1.8 days is: \", C, \"mg/l\")\n",
    "   "
   ]
  },
  {
   "cell_type": "code",
   "execution_count": null,
   "metadata": {},
   "outputs": [],
   "source": []
  }
 ],
 "metadata": {
  "kernelspec": {
   "display_name": "Python 3",
   "language": "python",
   "name": "python3"
  },
  "language_info": {
   "codemirror_mode": {
    "name": "ipython",
    "version": 3
   },
   "file_extension": ".py",
   "mimetype": "text/x-python",
   "name": "python",
   "nbconvert_exporter": "python",
   "pygments_lexer": "ipython3",
   "version": "3.8.5"
  }
 },
 "nbformat": 4,
 "nbformat_minor": 4
}
