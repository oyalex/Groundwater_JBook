{
 "cells": [
  {
   "cell_type": "markdown",
   "metadata": {},
   "source": [
    "# unconfined aquifer 1D"
   ]
  },
  {
   "cell_type": "code",
   "execution_count": 2,
   "metadata": {},
   "outputs": [],
   "source": [
    "#Initialize librarys\n",
    "import matplotlib.pyplot as plt\n",
    "import numpy as np\n",
    "import math\n",
    "from ipywidgets import *"
   ]
  },
  {
   "cell_type": "markdown",
   "metadata": {},
   "source": [
    "## Equation"
   ]
  },
  {
   "cell_type": "markdown",
   "metadata": {},
   "source": [
    "To calculate the water level and the flow rates of an unstressed aquifer, the following formula can be used:\n",
    "\n",
    "$$q'_x = \\frac{K \\cdot (h_2^2-h_1^2)}{2L}+R\\cdot(\\frac{L}{2}-x)$$\n",
    "\n",
    "$$h(x)=\\sqrt{h_1^2 + \\frac{h_2^2-h_1^2}{L} \\cdot x+\\frac{R}{K} \\cdot x \\cdot(L-x)}$$\n",
    "\n",
    "with   \n",
    "$q'$ = flow per unit width $[m^2/s]$, \n",
    "$h$ = head at x $[m]$,  \n",
    "$x$ = distance from the origin $[m]$,\n",
    "$h_1$ = head at the origin $[m]$, \n",
    "$h_2$ = head at L $[m]$, \n",
    "$L$ = distance from the origin at the point $H_u$ is measured $[m]$, \n",
    "$K$ = hydraulic conductivity $[m/s]$, \n",
    "$R$ = recharge rate $[m/s]$\n",
    "\n",
    "If the groundwater level is exposed to infiltration, a watershed may occur. The distance of the divide from the origin and the head at this point can be calculated with the next equations.\n",
    "\n",
    "$$d=\\frac{L}{2} + \\frac{K\\cdot (h_2^2-h_1^2)}{R \\cdot 2L}$$\n",
    "$$h_{max}=\\sqrt{h_1^2- \\frac{(h_1^2-h_2^2) \\cdot d}{L}+\\frac{R}{K} \\cdot (L-d) \\cdot d}$$\n",
    "\n",
    "with\n",
    "$d$ = distance from origin to water divide,\n",
    "$h_{max}$ = elevation at water table divide"
   ]
  },
  {
   "cell_type": "markdown",
   "metadata": {},
   "source": [
    "## Tasks\n",
    "*Info: The diagram below can be used to solve some tasks as well.*"
   ]
  },
  {
   "cell_type": "markdown",
   "metadata": {},
   "source": [
    "**1. Unconfined aquifer without recharge**\n",
    "\n",
    "An unconfined aquifer is 5000m long and has a hydraulic conductivity of 0.005 m/s and a groundwater recharge rate of 0 mm/a. The water level on the right side is 3 m and on the left side 4 m.\n",
    "\n",
    "**a)** Calculate the respective flow rates.\n",
    "\n",
    "**b)** Does an in- or outflow take place at the boundaries of the model?"
   ]
  },
  {
   "cell_type": "code",
   "execution_count": 3,
   "metadata": {
    "scrolled": true
   },
   "outputs": [
    {
     "name": "stdout",
     "output_type": "stream",
     "text": [
      "\u001b[1m\u001b[4mTask 1a\u001b[0m\n",
      "\n",
      "Let us find the flow rates.\n",
      "\n",
      "\u001b[1mProvieded are:\u001b[0m \n",
      "Distance = 5000 m\n",
      "Hydraulic conductivity = 0.005 m/s\n",
      "Recharge = 0 mm/a\n",
      "Head left = 4m\n",
      "Head right = 3m\n",
      "\n",
      "\u001b[1mSolution\u001b[0m\n",
      "The flow rate on the left side amounts to 0.3024 m³/d/m while it is 0.3024 m³/d/m on the right side.\n",
      "Since there is no groundwater recharge, the vertical inflow is 0.0 m³/d/m.\n"
     ]
    }
   ],
   "source": [
    "print(\"\\033[1m\\033[4mTask 1a\\033[0m\\n\")\n",
    "print(\"Let us find the flow rates.\\n\\n\\033[1mProvieded are:\\033[0m \")\n",
    "\n",
    "L = 5000 #m, distance\n",
    "K = 0.005 #m/s, conductivity\n",
    "R = 0 #mm/a, recharge\n",
    "h1 = 4 #m, head left\n",
    "h2 = 3 #m, head right\n",
    "\n",
    "print(\"Distance = {} m\\nHydraulic conductivity = {} m/s\\nRecharge = {} mm/a\\nHead left = {}m\\nHead right = {}m\\n\".format(L,K,R,h1,h2))\n",
    "\n",
    "#intermediate calculations\n",
    "R_ms = R/1000/86400/365.25\n",
    "\n",
    "#solution\n",
    "q_v = R_ms * L * 86400 \n",
    "q_l = -0.5*(R_ms*L+K/L*(h2**2-h1**2))*86400 \n",
    "q_r = -0.5*(-R_ms*L+K/L*(h2**2-h1**2))*86400 \n",
    "\n",
    "print(\"\\033[1mSolution\\033[0m\\nThe flow rate on the left side amounts to {:02.4} m³/d/m while it is {:02.4} m³/d/m on the right side.\\nSince there is no groundwater recharge, the vertical inflow is {:02.4} m³/d/m.\".format(q_l,q_r,q_v))\n"
   ]
  },
  {
   "cell_type": "code",
   "execution_count": 4,
   "metadata": {},
   "outputs": [
    {
     "name": "stdout",
     "output_type": "stream",
     "text": [
      "\u001b[1m\u001b[4mTask 1b\u001b[0m\n",
      "\n",
      "Let us find the direction of the flow on the left and right side of the model.\n",
      "\n",
      "\u001b[1mSolution\u001b[0m\n",
      "For this purpose we have to look on the flow rates of each side.\n",
      "\n",
      "The flow rate at the left boundary of the model is 0.3024 m³/d/m and is therefore greater than 0. Accordingly, there is an inflow from the left.\n",
      "The flow rate at the right boundary of the model is 0.3024 m³/d/m and is therefore greater than 0. Accordingly, there is an outflow from the right.\n"
     ]
    }
   ],
   "source": [
    "print(\"\\033[1m\\033[4mTask 1b\\033[0m\\n\")\n",
    "print(\"Let us find the direction of the flow on the left and right side of the model.\\n\")\n",
    "print(\"\\033[1mSolution\\033[0m\\nFor this purpose we have to look on the flow rates of each side.\\n\")\n",
    "\n",
    "if q_l>0:\n",
    "    print(\"The flow rate at the left boundary of the model is {:02.4} m³/d/m and is therefore greater than 0. Accordingly, there is an inflow from the left.\".format(q_l))\n",
    "if q_l<0:\n",
    "    print(\"The flow rate at the left boundary of the model is {:02.4} m³/d/m and is therefore less than 0. Accordingly, there is an outflow to the left.\".format(q_l))\n",
    "if q_r>0:\n",
    "    print(\"The flow rate at the right boundary of the model is {:02.4} m³/d/m and is therefore greater than 0. Accordingly, there is an outflow from the right.\".format(q_r))\n",
    "if q_r<0:\n",
    "    print(\"The flow rate at the right boundary of the model is {:02.4} m³/d/m and is therefore greater than 0. Accordingly, there is an inflow from the right.\".format(q_r))"
   ]
  },
  {
   "cell_type": "markdown",
   "metadata": {},
   "source": [
    "**2. Unconfined aquifer with recharge** \n",
    "\n",
    "Another unconfined aquifer has the same parameters as the aquifer mentioned in the first task. Only here a groundwater recharge of 200 mm/a takes place. \n",
    "\n",
    "**a)** Calculate the flow rates for this case.\n",
    "\n",
    "**b)** Does an in- or outflow take place at the boundaries of the model?\n",
    "\n",
    "**c)** Does a ground water divide exist? If so, determine the location and the water level at this point."
   ]
  },
  {
   "cell_type": "code",
   "execution_count": 5,
   "metadata": {},
   "outputs": [
    {
     "name": "stdout",
     "output_type": "stream",
     "text": [
      "\u001b[1m\u001b[4mTask 2a\u001b[0m\n",
      "\n",
      "Let us find the flow rates.\n",
      "\n",
      "\u001b[1mProvieded are:\u001b[0m \n",
      "Distance = 5000 m\n",
      "Hydraulic conductivity = 0.005 m/s\n",
      "Recharge = 200 mm/a\n",
      "Head left = 4m\n",
      "Head right = 3m\n",
      "\n",
      "\u001b[1mSolution:\u001b[0m\n",
      "The flow rate on the left side amounts to -1.067 m³/d/m while it is 1.671 m³/d/m on the right side.\n",
      "The vertical inflow in this case is 2.738 m³/d/m.\n"
     ]
    }
   ],
   "source": [
    "print(\"\\033[1m\\033[4mTask 2a\\033[0m\\n\")\n",
    "print(\"Let us find the flow rates.\\n\\n\\033[1mProvieded are:\\033[0m \")\n",
    "\n",
    "L = 5000 #m, distance\n",
    "K = 0.005 #m/s, conductivity\n",
    "R = 200 #mm/a, recharge\n",
    "h1 = 4 #m, head left\n",
    "h2 = 3 #m, head right\n",
    "\n",
    "print(\"Distance = {} m\\nHydraulic conductivity = {} m/s\\nRecharge = {} mm/a\\nHead left = {}m\\nHead right = {}m\\n\".format(L,K,R,h1,h2))\n",
    "\n",
    "#intermediate calculations\n",
    "R_ms = R/1000/86400/365.25\n",
    "\n",
    "#solution\n",
    "q_v = R_ms * L * 86400 \n",
    "q_l = -0.5*(R_ms*L+K/L*(h2**2-h1**2))*86400 \n",
    "q_r = -0.5*(-R_ms*L+K/L*(h2**2-h1**2))*86400 \n",
    "\n",
    "print(\"\\033[1mSolution:\\033[0m\\nThe flow rate on the left side amounts to {:02.4} m³/d/m while it is {:02.4} m³/d/m on the right side.\\nThe vertical inflow in this case is {:02.4} m³/d/m.\".format(q_l,q_r,q_v))\n"
   ]
  },
  {
   "cell_type": "code",
   "execution_count": 6,
   "metadata": {},
   "outputs": [
    {
     "name": "stdout",
     "output_type": "stream",
     "text": [
      "\u001b[1m\u001b[4mTask 2b\u001b[0m\n",
      "\n",
      "Let us find the direction of the flow on the left and right side of the model.\n",
      "\n",
      "\u001b[1mSolution\u001b[0m\n",
      "The procedure is the same as in task 1b.\n",
      "\n",
      "The flow rate at the left boundary of the model is -1.067 m³/d/m and is therefore less than 0. Accordingly, there is an outflow to the left.\n",
      "The flow rate at the right boundary of the model is 1.671 m³/d/m and is therefore greater than 0. Accordingly, there is an outflow from the right.\n"
     ]
    }
   ],
   "source": [
    "print(\"\\033[1m\\033[4mTask 2b\\033[0m\\n\")\n",
    "print(\"Let us find the direction of the flow on the left and right side of the model.\\n\")\n",
    "print(\"\\033[1mSolution\\033[0m\\nThe procedure is the same as in task 1b.\\n\")\n",
    "\n",
    "if q_l>0:\n",
    "    print(\"The flow rate at the left boundary of the model is {:02.4} m³/d/m and is therefore greater than 0. Accordingly, there is an inflow from the left.\".format(q_l))\n",
    "if q_l<0:\n",
    "    print(\"The flow rate at the left boundary of the model is {:02.4} m³/d/m and is therefore less than 0. Accordingly, there is an outflow to the left.\".format(q_l))\n",
    "if q_r>0:\n",
    "    print(\"The flow rate at the right boundary of the model is {:02.4} m³/d/m and is therefore greater than 0. Accordingly, there is an outflow from the right.\".format(q_r))\n",
    "if q_r<0:\n",
    "    print(\"The flow rate at the right boundary of the model is {:02.4} m³/d/m and is therefore greater than 0. Accordingly, there is an inflow from the right.\".format(q_r))"
   ]
  },
  {
   "cell_type": "code",
   "execution_count": 8,
   "metadata": {},
   "outputs": [
    {
     "name": "stdout",
     "output_type": "stream",
     "text": [
      "\u001b[1m\u001b[4mTask 2c\u001b[0m\n",
      "\n",
      "Let us find the head of the groundwater divide and its location.\n",
      "\n",
      "\u001b[1mSolution:\u001b[0m\n",
      "The formation of a groundwater divide depends on groundwater recharge. If this is less than or equal to the minimum groundwater recharge, there is no watershed for this simple case.\n",
      "\n",
      "The head of the groundwaser divide is 4.562 m and is located at a distance of 1.948e+03 m from the left side.\n"
     ]
    }
   ],
   "source": [
    "print(\"\\033[1m\\033[4mTask 2c\\033[0m\\n\")\n",
    "print(\"Let us find the head of the groundwater divide and its location.\\n\")\n",
    "\n",
    "print(\"\\033[1mSolution:\\033[0m\\nThe formation of a groundwater divide depends on groundwater recharge. If this is less than or equal to the minimum groundwater recharge, there is no watershed for this simple case.\\n\")\n",
    "\n",
    "#solution\n",
    "R_min_ms = K*abs(h2**2-h1**2)/L**2 \n",
    "R_min = R_min_ms*1000*86400*365\n",
    "if R_ms > R_min_ms:\n",
    "    d = 0.5*(L+K/R_ms*(h2**2-h1**2)/L)    \n",
    "    h_max = math.sqrt(h1**2 + (h2**2-h1**2)*d/L+R_ms/K*d*(L-d))\n",
    "    print(\"The head of the groundwaser divide is {:02.4} m and is located at a distance of {:02.4} m from the left side.\".format(h_max,d))\n",
    "else:\n",
    "    print(\"There is no groundwater divide in this model domain\")"
   ]
  },
  {
   "cell_type": "markdown",
   "metadata": {},
   "source": [
    "## Illustration of the correlations\n",
    "\n",
    "On the basis of this diagram, the relationships between the individual parameters and the water level can be observed. \n"
   ]
  },
  {
   "cell_type": "code",
   "execution_count": 10,
   "metadata": {},
   "outputs": [
    {
     "data": {
      "application/vnd.jupyter.widget-view+json": {
       "model_id": "793fe878ec064739b49f4f5ac613ef1c",
       "version_major": 2,
       "version_minor": 0
      },
      "text/plain": [
       "interactive(children=(BoundedFloatText(value=4.0, description='Head left [m]:', max=1000.0, step=0.5), Bounded…"
      ]
     },
     "metadata": {},
     "output_type": "display_data"
    },
    {
     "data": {
      "text/plain": [
       "<function __main__.head(h1, h2, L, K, R)>"
      ]
     },
     "execution_count": 10,
     "metadata": {},
     "output_type": "execute_result"
    }
   ],
   "source": [
    "#Definition of the function\n",
    "def head(h1, h2,L, K, R):\n",
    "    R_ms = R/1000/86400/365.25 \n",
    "    R_min_ms = K*abs(h2**2-h1**2)/L**2 \n",
    "    x = np.arange(0, L, L/1000)\n",
    "    h =(h1**2+(h2**2-h1**2)*x/L+R_ms/K*x*(L-x))**0.5\n",
    "    plt.plot(x, h)\n",
    "    plt.ylabel('head [m]')\n",
    "    plt.ylim(0, 35)\n",
    "    plt.xlabel('distance [m]')\n",
    "    plt.xlim(0, L)\n",
    "    plt.show\n",
    "    max_y = max(h)\n",
    "    max_x = x[h.argmax()]\n",
    "    if R_ms > R_min_ms:\n",
    "        print(\"The groundwater devide is located at  {:02.2} m and the head at divide amounts to {:02.2} m.\".format(max_x, max_y))\n",
    "    else:\n",
    "        print(\"There is no groundwater divide in this model domain.\")\n",
    "        \n",
    "interact(head,\n",
    "         h1=widgets.BoundedFloatText(value=4, min=0, max=1000, step=0.5, description='Head left [m]:', disabled=False),\n",
    "         h2=widgets.BoundedFloatText(value=3, min=0, max=1000, step=0.5, description='Head right [m]:', disabled=False),\n",
    "         L= widgets.BoundedFloatText(value=5000,min=0, max=10000,step=0.5, description='Distance [m]:' , disabled=False),\n",
    "         R=(-500,500,10), \n",
    "         K=widgets.FloatLogSlider(value=0.0002,base=10,min=-6, max=-2, step=0.0001, description='K [m/s]:', readout_format='.5f'))\n",
    "\n",
    "    \n",
    "    "
   ]
  },
  {
   "cell_type": "code",
   "execution_count": null,
   "metadata": {},
   "outputs": [],
   "source": []
  }
 ],
 "metadata": {
  "kernelspec": {
   "display_name": "Python 3",
   "language": "python",
   "name": "python3"
  },
  "language_info": {
   "codemirror_mode": {
    "name": "ipython",
    "version": 3
   },
   "file_extension": ".py",
   "mimetype": "text/x-python",
   "name": "python",
   "nbconvert_exporter": "python",
   "pygments_lexer": "ipython3",
   "version": "3.8.5"
  }
 },
 "nbformat": 4,
 "nbformat_minor": 4
}
