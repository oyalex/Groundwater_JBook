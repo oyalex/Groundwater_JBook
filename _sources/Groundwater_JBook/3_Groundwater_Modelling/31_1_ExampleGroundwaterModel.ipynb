{
 "cells": [
  {
   "cell_type": "markdown",
   "metadata": {},
   "source": [
    "# Example of a Groundwater Model"
   ]
  },
  {
   "cell_type": "markdown",
   "metadata": {},
   "source": [
    "## Some information about the Modelarea\n",
    "\n",
    "### Spartial Extension \n",
    "\n",
    "```{sidebar}Please note:\n",
    "Please note, that all this corresponds to a highly simplified setup!\n",
    "```\n",
    "\n",
    "As you can see below the horizontal extensions in **x-direction is 4000m** and in **y-direction 2500m.** The aquifer bottom is at **z = 250 m. a.s.l.** and the aquifer itself is **15m thick.**\n",
    "The corrosponding groundwater model is horizontally two-dimensional (2D). Vertical flow components are neglected.\n",
    "\n",
    "<img src=\"images/spartialextension.png\" width=\"600px\">\n",
    "\n",
    "\n",
    "### Hydraulic Properties \n",
    "\n",
    "The effective porosity $(n_e)$ in the model domain is $0.2$ or $20\\text{%}$\n",
    "\n",
    "There are two zone with different hydraulic conductivities $(K)$ and two zones with different groundwater recharge.\n",
    "\n",
    "A section of a river (\"river reach\") is in hydraulic contact with the aquifer. I.e. there may be water transfer from the river to the aquifer (\"influent conditions\") or vice versa (\"effluent conditions\").\n",
    "\n",
    "Furthermore there exists an inflow boundary with **prescribed hydraulic heads** and a outflow boundary with prescribed hydraulic heads, too. \n",
    "\n",
    "In addition there are two **impermeable boundaries.** "
   ]
  },
  {
   "cell_type": "markdown",
   "metadata": {},
   "source": [
    "## 2D Scenario and Model Purpose\n",
    "\n",
    "An Abstraction of groundwater through wells is planned. In this area there should be an overall pumping rate of $7000$ $\\frac{m^{3}}{d}$.\n",
    "\n",
    "Water extraction is to be distributed between two wells located at (x,y) = (3050 m, 1550 m) and (x,y) = (3050 m, 1450 m).\n",
    "\n",
    "<img src=\"images/2dscenario.png\" width=\"600px\"/>\n",
    "\n",
    "\n",
    "The model purpose is to **outline the 50-day isochrone for both wells.**"
   ]
  },
  {
   "cell_type": "markdown",
   "metadata": {},
   "source": [
    "## Modeling "
   ]
  }
 ],
 "metadata": {
  "kernelspec": {
   "display_name": "Python 3",
   "language": "python",
   "name": "python3"
  },
  "language_info": {
   "codemirror_mode": {
    "name": "ipython",
    "version": 3
   },
   "file_extension": ".py",
   "mimetype": "text/x-python",
   "name": "python",
   "nbconvert_exporter": "python",
   "pygments_lexer": "ipython3",
   "version": "3.8.3"
  }
 },
 "nbformat": 4,
 "nbformat_minor": 4
}
