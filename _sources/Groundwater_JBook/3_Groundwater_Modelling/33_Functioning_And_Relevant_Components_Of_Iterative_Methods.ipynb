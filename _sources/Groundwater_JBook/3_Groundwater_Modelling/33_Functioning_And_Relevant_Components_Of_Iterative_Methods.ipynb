{
 "cells": [
  {
   "cell_type": "markdown",
   "metadata": {},
   "source": [
    "# Functioning and Relevant Components of Iterative Methods #\n",
    "\n",
    "---"
   ]
  },
  {
   "cell_type": "markdown",
   "metadata": {},
   "source": [
    "## Motivation\n",
    "\n",
    "In order to be capable of simulating groundwater flow with the help of computer models, a **system of equations** must be solved. As a result head values are calculated for each model cell.\n",
    "\n",
    "Each equation is based on the **conservation of volume** (for each cell) and **Darcy‘s Law** (for flow between adjacent cells).\n",
    "\n",
    "In most cases, Gauß elimination is not useful due to the large number of equations and the associated large memory requirements of the computer. Therefore **iterative solution** methods are used.\n",
    "\n",
    "These require special input parameters to control the iterative procedure. An \"optimal\" parameter selection leads to an acceptable approximate solution within a few iteration steps. However, there is no guarantee that this will always be achieved.\n"
   ]
  },
  {
   "cell_type": "markdown",
   "metadata": {},
   "source": [
    "## Schematic Represantation of an Iterative Method\n",
    "\n",
    "<img src=\"images/schematic_iterative_Method.png\" width=\"600px\"/>\n",
    "\n",
    "The solving of systems of finite difference equations is done by a **sequence of similar iterative steps**.\n",
    "\n",
    "In each iteration step it is assumed that the approximate solution for the current time level is improved. This “update“ is **based on the intermediate result of the pre-vious iterative step**.\n",
    "The fourth index v counts the iteration steps, which is usually written in superscript."
   ]
  },
  {
   "cell_type": "markdown",
   "metadata": {},
   "source": [
    "## Componentes of an Iterative Method"
   ]
  },
  {
   "cell_type": "markdown",
   "metadata": {},
   "source": [
    "### Starting Value\n",
    "\n",
    "The start value corresponds to the value for the iteration step **v = 0**.\n",
    "\n",
    "For **transient problems**, the initial values are usually identical with the results of the previous time level (or with the initial values). The exception are cells with a fixed head boundary condition, since the heads are known at time level k and thus make an update unnecessary.\n",
    "\n",
    "For **stationary problems**, the initial values must be estimated in advance. This can be done by using the initial values provided by the software, by transient modelling which approximates the steady state, or by estimating the values based on previous experience."
   ]
  },
  {
   "cell_type": "markdown",
   "metadata": {},
   "source": [
    "### Error Criterion \n",
    "\n",
    "There are two ways to end the iteration. Either the iteration is stopped when the **maximum number of iteration steps $v_{max}$** is reached, or it is terminated if the differences in the results of two successive iteration steps are below a predefined **error tolerance $\\varepsilon$**.\n",
    "Groundwater software tools include both options. "
   ]
  },
  {
   "cell_type": "markdown",
   "metadata": {},
   "source": [
    "### Convergence\n",
    "\n",
    "<img src=\"images/Convergence.png\" width=\"600px\"/>\n",
    "\n",
    "An iterative method is convergent, if\n",
    "\n",
    "$$ \\max\\limits_{i,j}|h_{ij}^{k,(v)}-h_{ij}^{k,(v-1)}|<\\varepsilon $$\n",
    "\n",
    "It should be noted that convergence does **not always imply high quality solutions**. However, the plausibility of the results can be checked e.g. via the **volumetric budget** (offered by many available software tools).\n"
   ]
  },
  {
   "cell_type": "markdown",
   "metadata": {},
   "source": [
    "## General Procedure\n",
    "\n",
    "If the headers in the nodes are **fixed**, the **corresponding values** are used.\n",
    "\n",
    "If this is **not the case**, proceed as follows:\n",
    "- define the starting values: $$h_{ij}^{k,(0)}=h_{i,j}^{k-1}$$\n",
    "- perform the iterative steps: $$v=1, 2, \\dots, v_{max}$$\n",
    "    - update heads: $$h_{ij}^{k,(v-1)} \\Rightarrow h_{ij}^{k,(v)}$$\n",
    "    - terminate iteratiorn if: $$\\max\\limits_{i,j}|h_{ij}^{k,(v)}-h_{ij}^{k,(v-1)}|<\\varepsilon $$\n",
    "\n",
    "If the iteration does not converge, an issue warning message appears.\n",
    "    "
   ]
  },
  {
   "cell_type": "markdown",
   "metadata": {},
   "source": [
    "## How to select\n"
   ]
  },
  {
   "cell_type": "markdown",
   "metadata": {},
   "source": [
    "### Error Tolerance\n",
    "A decrease (increase) of the **error tolerance** leads to a larger (smaller) number of iteration steps and a larger (smaller) computing time.\n",
    "\n",
    "The **smaller** the error tolerance, the **more accurately** the solution of the FD equations is approximated in most cases. This only applies if the iterative method remains convergent. Sometimes it is sufficient to adjust $ν_{max}$ to restore convergence. \n",
    "\n",
    "**Exception:** An error tolerance close to the accuracy of the computer can lead to rounding errors and correspondingly reduced quality of the solution.\n",
    "\n",
    "**Rule of thumb:** The error tolerance should be one order of magnitude below the desired accuracy.\n",
    "\n",
    "**Example:** *The calculation of h with an accuracy of 0.01 m requires ε = 0.001 m*\n",
    "\n",
    "However, strong hydraulic contrasts may require a lower error tolerance.            "
   ]
  },
  {
   "cell_type": "markdown",
   "metadata": {},
   "source": [
    "### Maximum number of iteration\n",
    "\n",
    "The selection of the maximum number of iteration $v_{max}$ is done by:\n",
    "- default provided by the software\n",
    "- increasing the default if convergence cannot be achieved"
   ]
  },
  {
   "cell_type": "markdown",
   "metadata": {},
   "source": [
    "## Overview of Iterative Methods and Tests"
   ]
  },
  {
   "cell_type": "markdown",
   "metadata": {},
   "source": [
    "### Some Iterative Methods\n",
    "There is no iterative method with a general guarantee of convergence. Therefore, groundwater modelling tools usually contain a set of different methods.\n"
   ]
  },
  {
   "cell_type": "code",
   "execution_count": null,
   "metadata": {},
   "outputs": [],
   "source": []
  }
 ],
 "metadata": {
  "kernelspec": {
   "display_name": "Python 3",
   "language": "python",
   "name": "python3"
  },
  "language_info": {
   "codemirror_mode": {
    "name": "ipython",
    "version": 3
   },
   "file_extension": ".py",
   "mimetype": "text/x-python",
   "name": "python",
   "nbconvert_exporter": "python",
   "pygments_lexer": "ipython3",
   "version": "3.8.3"
  }
 },
 "nbformat": 4,
 "nbformat_minor": 4
}
