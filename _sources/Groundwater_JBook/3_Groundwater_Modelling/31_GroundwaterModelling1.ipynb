{
 "cells": [
  {
   "cell_type": "markdown",
   "metadata": {},
   "source": [
    "# Groundwater Modelling - Some Basics\n",
    "\n",
    "---"
   ]
  },
  {
   "cell_type": "markdown",
   "metadata": {},
   "source": [
    "A **Model** is a **representation, an image or a description of a real system.** \n",
    "For example, the real system can be a porous medium through whose pores water flow (Darcy experiment). The corresponding model is the Darcy Law (flow rate $\\sim$ hydraulic gradient).\n",
    "\n",
    "Each model is subject to **simplifications**. It's only an \"image\" of the real system. Darcy's Law, for example, does not provide an accurate representation of the flow through individual pore channels. Rather, average flow behaviour is represented through many pore channels. "
   ]
  },
  {
   "cell_type": "markdown",
   "metadata": {},
   "source": [
    "## Process-Based and Empirical Models\n",
    "\n",
    "Models can be classified according to various criteria.\n",
    "\n",
    "One criterion is based on the consideration of physical principles. \n",
    "A **physical based model (process-based model)** is a model based exclusively on **physical principles.** In most cases these principles represent conservation laws (e.g. for mass, volume, momentum, electric charge or energy).\n",
    "\n",
    "On the contrary, an **empirical model** describes the real system by **using data only** (e.g. via regression analysis). \n",
    "The following plot shows an empirical model via regression analysis.\n",
    "\n",
    "<img src=\"images/empirical_model.png\" width=\"500px\"/>\n",
    "\n",
    "\n",
    "Hybrids occur as well (**\"semi-empirical models\"**) \n",
    "In reality, Darcy's Law is a semi-empirical model: on the one hand, it is based on the conservation of momentum. On the other hand, it is not possible to strictly derive the direct proportionality between flow velocity and hydraulic gradient by averaging the flow behaviour across all pores."
   ]
  },
  {
   "cell_type": "markdown",
   "metadata": {},
   "source": [
    "## Conceptual Models\n",
    "\n",
    "Another criterion for model classification distinguishes the qualitative from the quantitative description of a real system.\n",
    "\n",
    "A **conceptual model** provides a **qualitative** representation of the relevant system components, processes and impacts in the area of investigation. This representation is usually **shown graphically**, e.g. as block model (see below), horizontal or vertical cross sections or schematic illustrations.\n",
    "\n",
    "<img src=\"images/blockmodel.png\" width=\"500px\"/>\n",
    "\n",
    "                            (Middlemis, 2001: Groundwater flow modelling guideline)"
   ]
  },
  {
   "cell_type": "markdown",
   "metadata": {},
   "source": [
    "## Mathematical Models\n",
    "\n",
    "A **mathematical model** provides a **quantitative** representation of the relevant system components, resorcesses and impacts in the area of investigation. The quantitative representation is based on **mathematical equations.**\n",
    "\n",
    "The most simple mathemtical model in hydrogeology is Darcy's Law for one-dimensional steady-state groundwater flow in confined aquifer:\n",
    "$$ v_f = -K \\cdot \\frac{\\Delta h}{L}$$\n",
    "\n",
    "Solutions of the mathematical equations can be categorized as **analytical** and **numerical.**"
   ]
  },
  {
   "cell_type": "markdown",
   "metadata": {},
   "source": [
    "### Analytical solution\n",
    "\n",
    "There are **exact mathematical expressions solving the model equations.**\n",
    "\n",
    "Below you can see an example of an analytical Solution. The situation is represented schematically in the following conceptual model.\n",
    "\n",
    "<img src=\"images/analyticalmodel.png\" width=\"600px\"/>\n",
    "\n",
    "The mathematical model  consisting of an one-dimensional groundwater flow equation and two boundary conditions results in:\n",
    "\n",
    "$$\\frac {d}{dx}(-h \\cdot K \\cdot \\frac{dh}{dx})=N, \\quad h(0) = h_0 \\quad \\text{and} \\quad h(L)=h_L $$\n",
    "\n",
    "The analytical solution results in: $$h(x)= \\sqrt{h_0^2-(h_0^2-h_L^2) \\cdot \\frac{x}{L} + \\frac{N}{K} \\cdot x \\cdot (L-x)}$$"
   ]
  },
  {
   "cell_type": "markdown",
   "metadata": {},
   "source": [
    "### Numerical Solution or numerical Method\n",
    "\n",
    "There is no exact mathematical expression wich solves the model equations. Rather, it is only possible to obtain **a large set of numbers that approximate the exact solution.**\n",
    "\n",
    "An Example for a model without analytical solution is shown below. Parameter heterogenity and irregular model domain boundaries lead to more sophisticated versions of the underlying groundwater flow equition. In this case the analytical solutions are no longer possible. Approximative numerical methods are required.\n",
    "\n",
    "<img src=\"images/numericalmodel.png\" width=\"600px\"/>\n",
    " \n",
    "                             (University of Waterloo, Dept. of Earth Sciences)"
   ]
  },
  {
   "cell_type": "markdown",
   "metadata": {},
   "source": [
    "## From the conceptual Model to the numerical Approach\n",
    "\n",
    "<img src=\"images/concept_to_numeric.png\" width=\"600px\"/>\n",
    "\n",
    "                        (from Anderson and Woessner: Applied Groundwater Modeling, 1992)\n",
    "                        \n",
    "      \n"
   ]
  },
  {
   "cell_type": "markdown",
   "metadata": {},
   "source": [
    "## Data Requirements\n",
    "\n",
    "Various data are required to create models. Those are:\n",
    "\n",
    "- topographical maps (with surface waters and water divides)\n",
    "- geological maps, geological profiles (see preceding example) \n",
    "- maps with isolines of aquifer bottoms/ thicknesses, aquitard bottoms/ thicknesses\n",
    "- maps indicating vertical extensions of sediments under rivers and lakes \n",
    "- hydrogeological maps (hydraulic head isolines)\n",
    "- water level time series in observation wells and rivers\n",
    "- time series of spring discharges\n",
    "- maps and profiles of storage coefficients \n",
    "- information on spatial and temporal variability of inlow/ outflow due to \n",
    "   - groundwater recharge\n",
    "   - evapotranspiration\n",
    "   - interaction between groundwater and surface water \n",
    "   - groundwater abstraction \n",
    "   - natural groundwater flow \n"
   ]
  },
  {
   "cell_type": "code",
   "execution_count": null,
   "metadata": {},
   "outputs": [],
   "source": []
  }
 ],
 "metadata": {
  "kernelspec": {
   "display_name": "Python 3",
   "language": "python",
   "name": "python3"
  },
  "language_info": {
   "codemirror_mode": {
    "name": "ipython",
    "version": 3
   },
   "file_extension": ".py",
   "mimetype": "text/x-python",
   "name": "python",
   "nbconvert_exporter": "python",
   "pygments_lexer": "ipython3",
   "version": "3.8.3"
  }
 },
 "nbformat": 4,
 "nbformat_minor": 4
}
