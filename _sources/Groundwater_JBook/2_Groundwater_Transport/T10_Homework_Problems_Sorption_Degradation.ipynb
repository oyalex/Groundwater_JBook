{
 "cells": [
  {
   "cell_type": "code",
   "execution_count": null,
   "metadata": {
    "hide_input": false,
    "slideshow": {
     "slide_type": "skip"
    }
   },
   "outputs": [],
   "source": [
    "import numpy as np\n",
    "import matplotlib.pyplot as plt\n",
    "import pandas as pd \n",
    "import ipysheet as ips\n",
    "import panel as pn\n",
    "from scipy import stats \n",
    "pn.extension('katex') "
   ]
  },
  {
   "cell_type": "markdown",
   "metadata": {
    "hide_input": true,
    "slideshow": {
     "slide_type": "slide"
    }
   },
   "source": [
    "# Tutorial 10 #\n",
    "\n",
    "\n",
    "## Homework problems on sorption and degradation\n",
    "\n",
    "---\n",
    "\n"
   ]
  },
  {
   "cell_type": "markdown",
   "metadata": {},
   "source": [
    "## Homework Problem 10 \n",
    "\n",
    "\n",
    "The same series of batch experiments as in tutorial problem 24 are considered. However, experimental findings are now to be evaluated \n",
    "by assuming a Freundlich isotherm.\n",
    "\n",
    "a) Plot decadic logarithm of mass ratio _C<sub>a</sub>_ vs. decadic logarithm of equilibrium concentration _C<sub>eq</sub>_ in a diagram.\n",
    "\n",
    "b) Determine the Freundlich coefficient _K<sub>Fr</sub>_ and the Freundlich exponent _n<sub>Fr</sub>_.\n",
    "\n",
    "\n",
    "\n",
    "| - | $C_{0}$ [$\\frac{mg}{L}$] | $C_{eq}$ [$\\frac{mg}{L}$] |\n",
    "|:-:|:------------------------:|:--------------------------:|\n",
    "| 0 |            50            |             15             |\n",
    "| 1 |            75            |             28             |\n",
    "| 2 |            100           |             40             |\n",
    "| 3 |            150           |             61             |\n",
    "| 4 |            200           |             82             |\n",
    "| 5 |            250           |             104            |\n"
   ]
  },
  {
   "cell_type": "markdown",
   "metadata": {},
   "source": [
    "### Homework Problem 10 - Solution\n",
    "\n",
    "**First step:** Calculate $C_a$ using\n",
    "\n",
    "$$ C_a = \\frac{V_{w} \\cdot (C_{0} - C_{eq})}{M_{s}} $$"
   ]
  },
  {
   "cell_type": "code",
   "execution_count": null,
   "metadata": {
    "code_folding": [
     0
    ],
    "slideshow": {
     "slide_type": "subslide"
    }
   },
   "outputs": [],
   "source": [
    "# Solution of HW problem 10,\n",
    "\n",
    "# Given in Problem 16 are\n",
    "#Given\n",
    "Vw = 25/1000 # L, volume of water in L\n",
    "Ms = 10 # g, mass of Cr(IV)\n",
    "\n",
    "#define dataframe\n",
    "dh10_Co = np.array([50, 75, 100, 150, 200, 250])\n",
    "dh10_Ceq =  np.array([15, 28, 40, 61, 82, 104])\n",
    "\n",
    "dh10 = {\"Co [mg/L]\":dh10_Co, \"Ceq [mg/L]\":dh10_Ceq}\n",
    "dfh10 = pd.DataFrame(dh10)\n",
    "\n",
    "# Obtain decadic logarithm of C_eq and C_a\n",
    "\n",
    "dh10_Ca = Vw/Ms*(dh10_Co-dh10_Ceq) # Ca  = Vw/Ms* (Co-Ceq)\n",
    "log_Ca = np.log10(dh10_Ca)\n",
    "log_Ceq = np.log10(dh10_Ceq)\n",
    "\n",
    "# output in table form - we use pandas\n",
    "log_dh10 = {\"Co [mg/L]\":dh10_Co, \"Ceq [mg/L]\":dh10_Ceq, \"Ca [mg/g]\": dh10_Ca, \n",
    "            \"log_Ca\": log_Ca, \"log_Ceq\": log_Ceq}\n",
    "\n",
    "log_dfh10 = pd.DataFrame(log_dh10)\n",
    "\n",
    "log_dfh10\n"
   ]
  },
  {
   "cell_type": "markdown",
   "metadata": {},
   "source": [
    "### Homework Problem 10 - Solution (continued)\n",
    "\n",
    "Freundlich isotherm is a non-linear isotherm given as\n",
    "\n",
    "$$ C_a = K_{Fr}\\cdot C_{eq}^{n_{Fr}} $$\n",
    "\n",
    "To linearize, we can make a log transformation, i.e., we take log of both sides of equation\n",
    "we get,\n",
    "\n",
    "$$ \\log C_a = \\log(K_{Fr}\\cdot C_{eq}^{n_{Fr}}) $$\n",
    "which becomes,\n",
    "\n",
    "$$ \\log C_a = \\log K_{Fr} +  n_{Fr} \\log C_{eq} $$\n",
    "\n",
    "comparable to the straight line equation $y = \\text{m}x + c$, with \n",
    "m = $n_{Fr}$ = slope and $c$ = $\\log K_{Fr}$ = intercept\n",
    "\n",
    "i.e., fitting data linearly provide $n_{Fr}$ and $K_{Fr}$"
   ]
  },
  {
   "cell_type": "code",
   "execution_count": null,
   "metadata": {
    "code_folding": [
     0
    ],
    "slideshow": {
     "slide_type": "subslide"
    }
   },
   "outputs": [],
   "source": [
    "# Plot the Log_ca and Log_ceq and fit it linearly\n",
    "\n",
    "fig1 = plt.figure()\n",
    "\n",
    "plt.plot(log_Ceq, log_Ca, 'o', label=' provided data');\n",
    "plt.xlabel(r\"Equilibrium concentration,$\\log C_{eq} $ (mg/L)\"); plt.ylabel(r\"Mass Ratio, $\\log C_{a} $ (mg/L)\");\n",
    "plt.legend(fontsize=11);\n",
    "plt.close() # otherwise we have 2 figure only when using pn.\n",
    "r_3 = pn.pane.Matplotlib(fig1, dpi=300)\n",
    "\n",
    "\n",
    "# Linear fit we use scipy.stats.linregress library\n",
    "slope, intercept, r_value, p_value, std_err = stats.linregress(log_Ceq, log_Ca) # linear regression\n",
    "\n",
    "# Make a fit plot\n",
    "fig2 = plt.figure()\n",
    "plt.plot(log_Ceq, log_Ca, 'o', label=' provided data');\n",
    "pred = intercept + slope*log_Ceq # fit line y = mx + C\n",
    "plt.plot(log_Ceq, pred, 'r', label='y={:.2E}x+{:.2E}'.format(slope,intercept)) ;\n",
    "plt.xlabel(r\"Equilibrium concentration,$\\log C_{eq} $ (mg/L)\"); plt.ylabel(r\"Mass Ratio, $\\log C_{a} $ (mg/L)\");\n",
    "plt.grid(); plt.legend(fontsize=11);  plt.text(1.20, -0.60,'$R^2 = %0.2f$' % r_value)\n",
    "plt.close() # otherwise we have 2 figure\n",
    "r_4 = pn.pane.Matplotlib(fig2, dpi=300)\n",
    "\n",
    "# solution 10.2\n",
    "\n",
    "r_5 = pn.pane.LaTeX(r\"\"\" \n",
    "The fit is almost perfect $R^2 = 0.99$. So we can use linear-fit results to get<br>\n",
    "a. slope = $n_{Fr}$ = 0.76 <br>\n",
    "b. intercept = $\\log K_{Fr}$ = -1.99, i.e., $K_{Fr} = 10^{-1.99}$\n",
    "\n",
    "\"\"\",width = 600, style={'font-size': '13pt'})\n",
    "\n",
    "#output\n",
    "r_6 = pn.Row(r_3, r_4) \n",
    "pn.Column(r_6, r_5)"
   ]
  },
  {
   "cell_type": "markdown",
   "metadata": {},
   "source": [
    "## Homework Problem 11\n",
    "\n",
    "<img src=\"images/T05_3a.png\" width=\"380px\" align=right>\n",
    "\n",
    "A reactive tracer experiment was performed under following conditions:<br>\n",
    "\n",
    "+ steady uniform flow in an aquifer with thickness $m$ = $10$ $m$ and effective porosity $n_e$ = $0.2$\n",
    "+ linear velocity: $v_x$ = $2\\times 10^{-5}$ $\\frac{m}{s}$, $v_y$ = $0$\n",
    "+ dispersivities $\\alpha_L$ = $0.5$ $m$, $\\alpha_T$ = $0.2$ $m$\n",
    "+ At $t$ = $0$, a tracer mass of $M$ = $985$ $kg$ was injected at $(x_0, y_0)$ = $(0, 250)$ $m$.\n",
    "+ The tracer is  subject to sorption or degradation, i.e., $R$ = $4.75$, $\\lambda$ = $1$ $a^{-1}$.\n",
    "\n",
    "\n",
    "<strong>Questions:</strong> <br>\n",
    "\n",
    "a) Where is the centre of the tracer mass after a period of $t$ = $5$ $a$?\n",
    "\n",
    "b) Where is the concentration isoline $C^\\ast$ = $4.43$ $\\frac{mg}{L}$ at that time?\n",
    "\n",
    "```{admonition} Tip\n",
    ":class: tip\n",
    "For more information check Lecture08 - Slides 21-25\n",
    "```"
   ]
  },
  {
   "cell_type": "markdown",
   "metadata": {},
   "source": [
    "### Homework Problem 11 - Solution\n",
    "\n",
    "<br>\n",
    "\n",
    "<img src=\"images/T05_3b.png\" width=\"600px\"/>\n",
    "\n",
    "<br>\n",
    "\n",
    "Concentration isolines are elliptic in the given scenario. \n",
    "Four steps are to be performed to answer problems a) and b):<br>\n",
    "<br>\n",
    "<strong>Step 1:</strong> Find centre of ellipse given by $x_{max} = x_0 + v_x \\cdot \\frac{t}{R}$ and $y_{max} = y_0$<br><br>\n",
    "<strong>Step 2:</strong> Find peak concentration \n",
    "$ C_{max} = \\frac{M}{4\\cdot \\pi \\cdot n_e \\cdot m \\sqrt{\\alpha_L \\cdot \\alpha_T\\cdot v_x \\cdot t} }\n",
    "\\cdot e^{-\\lambda\\cdot \\frac{t}{R}}$<br><br>\n",
    "<strong>Step 3:</strong>: Calculate concentration ratio $f = C^\\ast\\times/C_{max}$<br><br>\n",
    "<strong>Step 4:</strong> Determine lengths of semi-axes\n",
    "$a = \\sqrt{-4 \\cdot \\ln f \\cdot \\alpha_L \\cdot v_x \\cdot \\frac{t}{R}}$ and \n",
    "$b = \\sqrt{\\frac{\\alpha_T}{\\alpha_L}}\\cdot a $"
   ]
  },
  {
   "cell_type": "code",
   "execution_count": 8,
   "metadata": {
    "code_folding": [],
    "slideshow": {
     "slide_type": "subslide"
    }
   },
   "outputs": [
    {
     "name": "stdout",
     "output_type": "stream",
     "text": [
      "The x_max is located at:663.92 m \n",
      "\n",
      "The y_max is located at:250.00 m\n"
     ]
    }
   ],
   "source": [
    "# Solution of Problem HW 11, STEP 1\n",
    "#Given\n",
    "x_o = 0 # m, starting point along x-direction\n",
    "y_o = 250 # m, starting point along y-direction\n",
    "v_x = 2*1e-5 # m/s Groundwater velocity\n",
    "t = 5 # a, time in year\n",
    "R = 4.75# (-), retardation factor\n",
    "\n",
    "#calculate\n",
    "t_s = t*365*24*3600 # s, time unit conversion\n",
    "x_max = x_o + v_x*t_s/R\n",
    "y_max = y_o\n",
    "\n",
    "#output\n",
    "print(\"The x_max is located at:{0:1.2f}\".format(x_max), \"m \\n\" )\n",
    "print(\"The y_max is located at:{0:1.2f}\".format(y_max), \"m\" )"
   ]
  },
  {
   "cell_type": "code",
   "execution_count": 9,
   "metadata": {
    "code_folding": [],
    "slideshow": {
     "slide_type": "subslide"
    }
   },
   "outputs": [
    {
     "name": "stdout",
     "output_type": "stream",
     "text": [
      "The C_max is: 3.18e-02 Kg/m³ \n",
      "\n",
      "The C_max is: 31.84 mg/L\n"
     ]
    }
   ],
   "source": [
    "# Solution of Problem HW 11, STEP 2\n",
    "# Given \n",
    "M = 985 # kg, mass \n",
    "n_ef = 0.2 # (-), effective porosity\n",
    "m = 10 # m, aquifer thickness\n",
    "a_L = 0.5 # m, longitudinal dispersivity \n",
    "a_T = 0.2 # m, Transverse dispersivity\n",
    "L_a = 1 #  (-), degradation rate, Lambda\n",
    "\n",
    "# interim calculation\n",
    "T1 = np.sqrt(a_L*a_T)*v_x*t_s\n",
    "T2 = np.exp(-L_a/R)\n",
    "\n",
    "# Compute\n",
    "C_max = M/(4*np.pi* n_ef*m* T1)*T2\n",
    "\n",
    "print(\"The C_max is: {0:1.2e}\".format( C_max), \"Kg/m\\u00b3 \\n\" ) \n",
    "print(\"The C_max is: {0:1.2f}\".format(C_max*1000), \"mg/L\" ) "
   ]
  },
  {
   "cell_type": "code",
   "execution_count": 10,
   "metadata": {
    "slideshow": {
     "slide_type": "subslide"
    }
   },
   "outputs": [
    {
     "name": "stdout",
     "output_type": "stream",
     "text": [
      "The f is: 0.1391\n",
      "The a is: 51.17 m\n",
      "The b is: 32.37 m\n"
     ]
    }
   ],
   "source": [
    "# Solution of Problem HW 11, STEP 3 and Step 4\n",
    "\n",
    "#Given\n",
    "C_ast = 4.43 # mg/L concentration whose location is to be found\n",
    "C_maxf = C_max*1000 # mg/L converting unit of C_max from Kg/m to mg/L \n",
    "\n",
    "# Compute f\n",
    "f = C_ast/C_maxf\n",
    "\n",
    "# Solution Step 4\n",
    "\n",
    "# compute a and b\n",
    "a = np.sqrt(-4*np.log(f)*a_L*v_x*t_s/R)\n",
    "b = np.sqrt(a_T/a_L)*a \n",
    "\n",
    "#Output\n",
    "print(\"The f is: {0:1.4f}\".format(f) ) \n",
    "print(\"The a is: {0:1.2f}\".format(a), \"m\") \n",
    "print(\"The b is: {0:1.2f}\".format(b), \"m\") \n"
   ]
  },
  {
   "cell_type": "markdown",
   "metadata": {
    "slideshow": {
     "slide_type": "slide"
    }
   },
   "source": [
    "Tutorial problems end here.\n",
    "\n",
    "\n",
    "Next week we perform numerical modeling using MODFLOW/MT3DMS in **modelmuse** interface\n",
    "\n",
    "In tutorials we solved:\n",
    "\n",
    "+ 27 Class problems\n",
    "+ 11 Homework problems\n",
    "+ 1-set past exam\n",
    "\n",
    "We learned a bit on using Python code to solve our problem\n",
    "\n",
    "\n"
   ]
  },
  {
   "cell_type": "code",
   "execution_count": null,
   "metadata": {},
   "outputs": [],
   "source": []
  }
 ],
 "metadata": {
  "author": "me",
  "celltoolbar": "Slideshow",
  "cite2c": {
   "citations": {
    "3662725/494UHFIG": {
     "author": [
      {
       "family": "Wexler",
       "given": "E."
      }
     ],
     "collection-title": "Book 3, Chapter B7",
     "container-title": "Techniques of Water-Resources Investigations of the United States Geological Survey",
     "id": "3662725/494UHFIG",
     "issued": {
      "year": 1992
     },
     "page": "190",
     "page-first": "190",
     "title": "Analytical solutions for one-, two-, and three-dimensional solute transport in groundwater systems with uniform flow",
     "type": "chapter"
    }
   }
  },
  "hide_input": false,
  "kernel_info": {
   "name": "python3"
  },
  "kernelspec": {
   "display_name": "Python 3",
   "language": "python",
   "name": "python3"
  },
  "language_info": {
   "codemirror_mode": {
    "name": "ipython",
    "version": 3
   },
   "file_extension": ".py",
   "mimetype": "text/x-python",
   "name": "python",
   "nbconvert_exporter": "python",
   "pygments_lexer": "ipython3",
   "version": "3.7.2"
  },
  "latex_envs": {
   "LaTeX_envs_menu_present": true,
   "autoclose": false,
   "autocomplete": false,
   "bibliofile": "biblio.bib",
   "cite_by": "apalike",
   "current_citInitial": 1,
   "eqLabelWithNumbers": false,
   "eqNumInitial": 1,
   "hotkeys": {
    "equation": "Ctrl-E",
    "itemize": "Ctrl-I"
   },
   "labels_anchors": false,
   "latex_user_defs": false,
   "report_style_numbering": false,
   "user_envs_cfg": false
  },
  "nteract": {
   "version": "0.15.0"
  },
  "varInspector": {
   "cols": {
    "lenName": 16,
    "lenType": 16,
    "lenVar": 40
   },
   "kernels_config": {
    "python": {
     "delete_cmd_postfix": "",
     "delete_cmd_prefix": "del ",
     "library": "var_list.py",
     "varRefreshCmd": "print(var_dic_list())"
    },
    "r": {
     "delete_cmd_postfix": ") ",
     "delete_cmd_prefix": "rm(",
     "library": "var_list.r",
     "varRefreshCmd": "cat(var_dic_list()) "
    }
   },
   "position": {
    "height": "563.8px",
    "left": "701.6px",
    "right": "20px",
    "top": "130px",
    "width": "610.8px"
   },
   "types_to_exclude": [
    "module",
    "function",
    "builtin_function_or_method",
    "instance",
    "_Feature"
   ],
   "window_display": false
  }
 },
 "nbformat": 4,
 "nbformat_minor": 4
}
