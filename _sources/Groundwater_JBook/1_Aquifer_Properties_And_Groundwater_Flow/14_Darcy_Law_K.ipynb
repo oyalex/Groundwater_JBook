{
 "cells": [
  {
   "cell_type": "markdown",
   "metadata": {},
   "source": [
    "# Lecture 4 - Darcy's Law and Conductivity\n",
    "\n",
    "---"
   ]
  },
  {
   "cell_type": "markdown",
   "metadata": {},
   "source": [
    "## Energy and hydraulic head  ## \n",
    "\n",
    "In the last section we learned that _hydrostatic pressure difference_ $p(z)$ will not allow the fully quantify water flow. In fact in addition to $p(z)$ other form of energy must also be considered. \n",
    "\n",
    "The energy available for groundwater flow is given the name _hydraulic head_ $(h)$ or also called _piezometric head_: It consists of three components, related to \n",
    "\n",
    "> **elevation, \n",
    "pressure and \n",
    "velocity**. \n",
    "\n",
    "The total energy head is expressed by the equation\n",
    "\n",
    "$$\n",
    "h = z + \\frac{p}{\\rho g} + \\frac{v^2}{2g}\n",
    "$$\n",
    "\n",
    "```{sidebar} Variables\n",
    "$z$ is the _elevation_ or _datum head_ [L], <br>\n",
    "$p$ is the _pressure_\n",
    "exerted by water column [M L$^{-1}$ T$^{-2}$],<br> \n",
    "$\\rho$ is the density of fluid [M L$^{-3}$],<br> \n",
    "$g$ is the acceleration due to gravity [LT$^{-2}$], and <br> \n",
    "$v$ is velocity of flow [LT$^{-1}$].\n",
    "```\n",
    "\n",
    "Note that the $h$ has the dimension of length [L].  In groundwater flow, the velocity is so low\n",
    "that the energy contained in velocity can be neglected when computing the total energy.\n",
    "Thus, the hydraulic head (as represented in Figure <a href=\"fig1\" title=Hydraulic Head>Hydraulic Head</a>) is written as\n",
    "\n",
    "$$\n",
    "h = z + \\frac{p}{\\rho g} \n",
    "$$\n",
    "\n",
    "The above equation says that Water flow is governed by differences in hydraulic head and not by differences in pressure head alone.\n",
    "\n",
    "It is to be noted that $z$ depends on the orientation. In the above equation $+z$ is considered oriented upward (based on conventional sign convention). If $z-$axis is oriented downwards, we have\n",
    "\n",
    "$$\n",
    "h = \\frac{p}{\\rho g}-z \n",
    "$$\n"
   ]
  },
  {
   "cell_type": "markdown",
   "metadata": {},
   "source": [
    "## Hydraulic head and discharge - when there is no discharge ##\n",
    "\n",
    "Consider the figure below:\n",
    "\n",
    "<a href=\"fig1\"></a><img src=\"images/L4_f1.png\" alt=\"Hydraulic Head\" width=\"600px\" height=\"1000px\">\n",
    "\n",
    "\n",
    "The pressure head: $p(z) = p_L + \\rho \\cdot g \\cdot (L-z)$ <br>\n",
    "The hydraulic head (piezometric head): $h(z) = \\frac{p(z)}{\\rho \\cdot g } + z = \\frac{p_L + \\rho \\cdot g \\cdot (L-z) }{\\rho \\cdot g } + z = \\frac{p_L}{\\rho \\cdot g}+ L = \\text{Const}$<br>\n",
    "\n",
    "In the figure above the hydraulic head difference between two points ($z=0$ and $z=L$) are exactly equal, i.e., $\\Delta h = 0$. This refers to the system with no energy gradient and hence a _no flow_ system. "
   ]
  },
  {
   "cell_type": "markdown",
   "metadata": {},
   "source": [
    "## Hydraulic head and discharge - when there will be a discharge ##\n",
    "\n",
    "Now consider the figure below\n",
    "\n",
    "<a href=\"fig2\"></a><img src=\"images/L4_f2.png\" alt=\"Hydraulic Head II\" width=\"400px\" height=\"1000px\">\n",
    "\n",
    "Here there is clear difference between the elevation head ($z_1$ and $z_2$), which is taken from a reference level ($z=0$ in this case. Average Sea Level (ASL), is often use for this reference). Also differing are pressure heads ($p_1$ and $p_2$). Therefore, the $h(z)$ in this case are:\n",
    "\n",
    "$$\n",
    "\\begin{align}\n",
    "h_1 &= \\frac{p_1}{\\rho \\cdot g} + z_1 \\\\\n",
    "h_2 &= \\frac{p_2}{\\rho \\cdot g} + z_2\n",
    "\\end{align}\n",
    "$$\n",
    "\n",
    "As can be observed from the figure, in this case $h_1<h_2$. Thus, analogus to flow of energy - i.e., from higher energy level to the lower energy level, the flow in this example case is from cross-section 2 towards cross section 1.\n",
    "\n",
    "It is to be noted that the _magnitude_ of the hydraulic head ($h$) rather than the _orientation_ of the set-up determines the direction of discharge.\n",
    "\n",
    "Also, important to note is that the _differences of hydraulic head_ $(\\Delta h)$ is independent of of the position of the origin of the reference axis  ($z$-axis in the above case)."
   ]
  },
  {
   "cell_type": "markdown",
   "metadata": {},
   "source": [
    "#### Examplary Problem on hydraulic head and discharge\n",
    "\n",
    "\n",
    "Two points are in the same confined aquifer and lie vertical line. Point 1 is $50$ $m$ below mean see level and point 2 is $100$ $m$ below. The Fluid pressure at point 1 is $6.1 \\times 10^5$ $\\frac{N}{m^2}$ and at point 2, it is $9 \\times 10^5$ $\\frac{N}{m^2}$.\n",
    "Calculate the total heads and determine in which direction the water flows.\n",
    "\n",
    "```{note}\n",
    "Assume that the deeper point is at zero datum. Therefor, the elevation head at point 2 is zero and at point 1 it is 50 m.\n",
    "```"
   ]
  },
  {
   "cell_type": "code",
   "execution_count": 12,
   "metadata": {},
   "outputs": [
    {
     "name": "stdout",
     "output_type": "stream",
     "text": [
      "Let us find the total energy head.\n",
      "\n",
      "The resulting total energy head at point 1 is 112.18 m, \n",
      "and at point 2 it is 91.74 m\n",
      "\n",
      "The water flows from point 1 to 2 \n"
     ]
    }
   ],
   "source": [
    "print(\"Let us find the total energy head.\\n\")\n",
    "\n",
    "z1 = 50 #elevation at point 1 [m]\n",
    "z2 = 0 #elevation at point 2 [m]\n",
    "g = 9.81 # [m/s^2]\n",
    "p1 = 6.1e5 # fluid pressure at point 1 [N/m^2]\n",
    "p2 = 9e5 # fluid pressure at point 2 [N/m^2]\n",
    "rho = 1000 # fluid density [kg/m^3]\n",
    "\n",
    "#solution\n",
    "h1 = z1 + p1/(rho*g)\n",
    "h2 = z2 + p2/(rho*g)\n",
    "\n",
    "print(\"The resulting total energy head at point 1 is {:02.2f} m, \\nand at point 2 it is {:02.2f} m\".format(h1, h2))\n",
    "\n",
    "if h1 < h2:\n",
    "    print(\"\\nThe water flows from point 2 to 1\")\n",
    "else:\n",
    "    print(\"\\nThe water flows from point 1 to 2 \")"
   ]
  },
  {
   "cell_type": "markdown",
   "metadata": {},
   "source": [
    "## Darcy's Law\n",
    "\n",
    "Groundwater in its natural state is invariably moving. This movement is governed by\n",
    "established hydraulic principles. Darcy's Law is a phenomenologically derived\n",
    "constitutive equation that describes the flow of a fluid through a porous medium.\n",
    "Darcy's Law along with the equation of conservation of mass is equivalent to the\n",
    "groundwater flow equation, one of the basic relationships of hydrogeology. It is also\n",
    "used to describe oil, water, and gas flows through petroleum reservoirs.\n",
    "\n",
    "The law was formulated by Henry Darcy (Darcy, 1856) based on the results of experiments on the flow\n",
    "of water through beds of sand (Figure <a href=\"fig3\">Darcy's Set-up</a>)  shows a schematic setup). In the experiments, _area of cross section_  ($A$ [L$^2$] $= \\text{Const}$) was kept constant. Constant discharge ($Q= \\text{Const}$) was applied and the sand medium was fully saturated, i.e., voids between sand grains were completely filled with water.\n",
    "\n",
    "<a href=\"fig3\"></a><img src=\"images/L4_f3.png\" alt=\"Darcy's Set-up\" width=\"400px\" height=\"600px\">"
   ]
  },
  {
   "cell_type": "markdown",
   "metadata": {},
   "source": [
    "From the experiments Darcy observed that the _volume of water per unit time_ passing through a porous medium\n",
    "\n",
    "- is _directly proportional_ to the  $A$ [L$^2$] and the head difference between inlet and outlet $(h_1 – h_2)$ [L], and \n",
    "- is inversely proportional to the _length of the medium_ $L$ [L] \n",
    "\n",
    "i.e.,\n",
    "\n",
    "$$\n",
    "\\frac{\\text{Vol}}{t}= Q \\propto A (h_1 - h_2)\\frac{1}{L}\n",
    "$$\n",
    "\n",
    "which in terms of specific discharge $q$, or discharge velocity or Darcy velocity $v$ [LT$^{-1}$] is\n",
    "```{sidebar} Where\n",
    "constant of proportionality $K$ = _hydraulic conductivity_ [LT${-1}$] and<br>\n",
    "$i$ = $\\partial h/ \\partial L$ = _hydraulic gradient_ = rate of head loss per unit length of medium [-]\n",
    "```\n",
    "$$\n",
    "q = v = \\frac{Q}{A}= - K\\frac{\\partial h}{\\partial L} = - K\\,i\n",
    "$$\n",
    "\n",
    "The _negative sign_ indicates that the total head is decreasing in the direction of flow because of friction or resistance."
   ]
  },
  {
   "cell_type": "markdown",
   "metadata": {},
   "source": [
    "#### Examplary Problem on Darcy's law\n",
    "\n",
    "Calculate the specific discharge and the flow rate passing through the surface with the given parameters."
   ]
  },
  {
   "cell_type": "code",
   "execution_count": 17,
   "metadata": {},
   "outputs": [
    {
     "name": "stdout",
     "output_type": "stream",
     "text": [
      "\u001b[1mProvided are:\u001b[0m\n",
      "Conductivity = 0.0005 m/s\n",
      " Surface = 10 m² \n",
      "Hydraulic head at the inlet = 10 m \n",
      "Hydraulic head at the outlet = 2 m \n",
      "Lenght of the column = 5 m \n",
      "\n",
      "\u001b[1mSolution:\u001b[0m\n",
      "The resulting specific discharge is 0.0008 m/s, \n",
      "and the flow rate is0.008 m³/s\n"
     ]
    }
   ],
   "source": [
    "print(\"\\033[1mProvided are:\\033[0m\")\n",
    "\n",
    "K = 5e-4 # m/s, conductivity\n",
    "A = 10 # m², surface\n",
    "h_in = 10 # m, hydraulic head at the inlet\n",
    "h_out = 2 # m, hydraulic head at the outlet\n",
    "L = 5 #m, lenght of the column\n",
    "\n",
    "#intermediate calculation\n",
    "I = (h_in-h_out)/L\n",
    "\n",
    "#solution\n",
    "q = K*I\n",
    "Q = K*I*A\n",
    "\n",
    "print(\"Conductivity = {} m/s\\n Surface = {} m² \\nHydraulic head at the inlet = {} m \\nHydraulic head at the outlet = {} m \\nLenght of the column = {} m\".format(K, A, h_in, h_out, L), \"\\n\")\n",
    "print(\"\\033[1mSolution:\\033[0m\\nThe resulting specific discharge is {} m/s, \\nand the flow rate is{:02.4} m³/s\".format(q,Q))"
   ]
  },
  {
   "cell_type": "markdown",
   "metadata": {},
   "source": [
    "Darcy's law is a simple mathematical statement which neatly summarizes several\n",
    "familiar properties that groundwater flowing in aquifers exhibits, including: \n",
    "> 1.  if there\n",
    " is no hydraulic gradient (difference in hydraulic head over a distance), no flow occurs\n",
    " (this is hydrostatic conditions), \n",
    "\n",
    "> 2. if there is a hydraulic gradient, flow will occur from\n",
    " a high head towards a low head (opposite the direction of increasing gradient, hence the\n",
    "negative sign in Darcy's law), \n",
    "\n",
    "> 3.  the greater the hydraulic gradient (through the same\n",
    "aquifer material), the greater the discharge, and \n",
    "\n",
    "> 4.  the discharge may be different\n",
    "through different aquifer materials (or even through the same material, in a different\n",
    "direction) even if the same hydraulic gradient exists."
   ]
  },
  {
   "cell_type": "markdown",
   "metadata": {},
   "source": [
    "### Darcy's law and analogous physical systems ###\n",
    "\n",
    "Darcy's law is analogous to pipe flow in which energy is dissipated over the distance to overcome frictional loss resulting\n",
    "from fluid viscosity. \n",
    "\n",
    "It also forms the scientific basis of permeability used in the earth\n",
    "sciences. \n",
    "\n",
    "It may be noted Darcy's law is analogous to Fourier's law in the field of heat conduction, Ohm's law in the field of electrical networks, or Fick's law in diffusion theory."
   ]
  },
  {
   "cell_type": "markdown",
   "metadata": {},
   "source": [
    "## Hydraulic Conductivity and Intrinsic Permeability ##"
   ]
  },
  {
   "cell_type": "markdown",
   "metadata": {},
   "source": [
    "_Hydraulic Conductivity ($K$)_ appeared in the Darcy's law as a constant of proportionality, i.e., it is the fundamental quantity that is required to describe groundwater flow. Therefore we illustrate this further,\n",
    "\n",
    "A medium has a _unit hydraulic conductivity_ if it will transmit in _unit time_ a _unit volume of groundwater_ at the prevailing kinematic viscosity through a cross section of _unit area_ measured at _right angles_ to the direction of flow, under a _unit hydraulic gradient_. \n",
    "\n",
    "The hydraulic conductivity of a soil or rock depends on a variety of\n",
    "physical factors, important ones are:\n",
    "- porosity, \n",
    "- particle size and distribution, \n",
    "- shape of particles,\n",
    "- arrangement of particles.\n",
    "\n",
    "Also, hydraulic conductivity is depends on the property of the fluid e.g., density, viscosity \n",
    "\n",
    "In general for unconsolidated porous media,$K$ varies with _square_ of particle size; clayey materials exhibit low values of $K$, whereas\n",
    "sands and gravels display high values\n",
    "\n",
    "Typical values for hydraulic conductivity (see figure <a href=\"fig7\">K and k</a> for more comprehensive listing):\n",
    "\n",
    "| Media Type      | hydraulic conductivity (m/s) |\n",
    "| ----------- | ---: |\n",
    "| Gravel     | $10^{-2} – 10^{-1}$ |\n",
    "| coarse sand   | $\\approx 10^{-3}$ |\n",
    "| medium sand   | $10 ^{-4} – 10^{-3}$ |\n",
    "| fine sand  | $10^{-5} – 10^{-4}$        |\n",
    "| Silt  | $10^{-9}  – 10^{-6} $     |\n",
    "| Clay  | $< 10^{-9} $     |"
   ]
  },
  {
   "cell_type": "markdown",
   "metadata": {},
   "source": [
    "#### Examplary Problem on hydraulic conductivity\n",
    "\n",
    "Calculate the hydraulic conductivity and assign it to the media type."
   ]
  },
  {
   "cell_type": "code",
   "execution_count": 15,
   "metadata": {},
   "outputs": [
    {
     "name": "stdout",
     "output_type": "stream",
     "text": [
      "\u001b[1mProvided are:\u001b[0m\n",
      "Discharge = 1e-05 m³/s\n",
      "Lenght of sample = 5 m\n",
      "Cross-sectional area of sample = 0.5 m²\n",
      "Hydraulic head at column inlet = 3 m\n",
      "Hydraulic head at column outlet = 1 m \n",
      "\n",
      "\u001b[1mSolution:\u001b[0m\n",
      "The resulting hydraulic conductivity is 5e-05 m/s.\n",
      "The corresponding media type is fine sand.\n"
     ]
    }
   ],
   "source": [
    "print(\"\\033[1mProvided are:\\033[0m\")\n",
    "\n",
    "#provided values\n",
    "Q = 1e-5  #discharge [m³/s]\n",
    "L = 5 #length of sample [m]\n",
    "A = 0.5 #cross-sectional area of sample [m²]\n",
    "h1 = 3 #hydraulic head at column inlet [m]\n",
    "h2 = 1 #hydraulic head at column outlet [m]\n",
    "\n",
    "#solution\n",
    "K=(Q*L)/(A*(h1-h2))\n",
    "\n",
    "print(\"Discharge = {} m³/s\\nLenght of sample = {} m\\nCross-sectional area of sample = {} m²\\nHydraulic head at column inlet = {} m\\nHydraulic head at column outlet = {} m\".format(Q,L,A,h1,h2),\"\\n\")\n",
    "print(\"\\033[1mSolution:\\033[0m\\nThe resulting hydraulic conductivity is {} m/s.\".format(K))\n",
    "\n",
    "if 1e-1 >= K >1e-3:\n",
    "    print(\"The corresponding media type is gravel.\")\n",
    "if K == 1e-3:\n",
    "    print(\"The corresponding media type is coarse sand.\")\n",
    "if 1e-3 > K > 1e-4:\n",
    "    print(\"The corresponding media type is medium sand.\")\n",
    "if 1e-4 >= K > 1e-6:\n",
    "    print(\"The corresponding media type is fine sand.\")\n",
    "if 1e-6 >= K > 1e-10:\n",
    "    print(\"The corresponding media type is silt.\")\n",
    "if K <= 1e-10:\n",
    "    print(\"The corresponding media type is clay.\")"
   ]
  },
  {
   "cell_type": "markdown",
   "metadata": {},
   "source": [
    "### Obtaining Hydraulic Conductivities ###\n",
    "\n",
    "The hydraulic conductivity depends on properties of the fluid (density, viscosity,\n",
    "temperature) and on properties of the porous medium (effective porosity, grain size\n",
    "distribution). It can be obtained by calculation from formulas, laboratory methods, or\n",
    "field tests\n",
    "\n",
    "The laboratory method can be indirect method or direct method. For example,\n",
    "determination of the hydraulic conductivity based on the evaluation of sieve analysis\n",
    "data is the indirect laboratory method. On the other hand, the direct method of\n",
    "determination of the hydraulic conductivity (e.g. permeameter) is based on some version of Darcy‘s experiment. Advantages of laboratory methods include controlled\n",
    "conditions, small sample size (easy handling), lower costs, larger number of\n",
    "experiments, etc. While, the disadvantages of laboratory methods are disturbed\n",
    "samples, additional pathways at column walls, small sample size (randomly high or low\n",
    "K), flushing of fine material, etc."
   ]
  },
  {
   "cell_type": "markdown",
   "metadata": {},
   "source": [
    "#### Hydraulic Conductivities estimations from Sieve analysis ####\n",
    "\n",
    "Sieve analysis data can be evaluated to estimate hydraulic conductivity of\n",
    "unconsolidated media. There are several _empirical methods_. The simplest one dates back to Hazen (1892):\n",
    "\n",
    "$$\n",
    "K = 0.0116 \\cdot d_{10}^2\n",
    "$$\n",
    "\n",
    "\n",
    "where, $d_{10}$ = grain diameter (mm) corresponding to $10\n",
    "\\%$ of cumulative mass fraction. It can be generalized by including temperature ($\\theta$ in $^\\circ$C). Thus the Hazen formula becomes\n",
    "\n",
    "\n",
    "$$\n",
    "K = 0.0116 \\cdot d_{10}^2 \\cdot (0.7 + 0.03\\cdot\\theta)\n",
    "$$\n",
    "\n",
    "Hazen's formula is only valid for the indicated units, i.e., conversion of the _unit_ may be required before using the formula."
   ]
  },
  {
   "cell_type": "markdown",
   "metadata": {},
   "source": [
    "#### Examplary Problem on hydraulic conductivity and sieve analysis (1)\n",
    "\n",
    "1. An Aquifer with fine to medium sand was investigated with an sieve analysis. At a temperature of $20°C$ a $d_{10}$ of $0,13$ $mm$ was measured. Determine the hydraulic conductivity and how it changes when the temperature rises by $5$ $K$."
   ]
  },
  {
   "cell_type": "code",
   "execution_count": 31,
   "metadata": {},
   "outputs": [
    {
     "name": "stdout",
     "output_type": "stream",
     "text": [
      "Let us find the hydraulic conductivities.\n",
      "\n",
      "\u001b[1mProvided are:\u001b[0m\n",
      "grain diameter corresponding to 10% od cumulative mass fraction = 0.13 mm\n",
      "Temperature = 10 °C\n",
      "temperature change = 5 K \n",
      "\n",
      "\u001b[1mSolution:\u001b[0m \n",
      "The resulting hydraulic Conductivity at 20°C is 0.00019604 m/s\n",
      "and the resulting hydraulic conductivity at 25°C is 0.000225446 m/s\n"
     ]
    }
   ],
   "source": [
    "print(\"Let us find the hydraulic conductivities.\\n\\n\\033[1mProvided are:\\033[0m\")\n",
    "\n",
    "d10 = 0.13 # grain diameter corresponding to 10% of cumulative mass fraction [mm]\n",
    "T1 = 10 # Temperature [°C]\n",
    "deltaT = 5 # temperature change [K]\n",
    "\n",
    "#intermediate calculation\n",
    "T2 = T1 + deltaT\n",
    "\n",
    "#solution\n",
    "K1 = 0.0116 * d10**2 * (0.7 + 0.03*T1)\n",
    "K2 = 0.0116 * d10**2 * (0.7 + 0.03*T2)\n",
    "\n",
    "print(\"grain diameter corresponding to 10% od cumulative mass fraction = {} mm\\nTemperature = {} °C\\ntemperature change = {} K\".format(d10, T1, deltaT),\"\\n\")\n",
    "print(\"\\033[1mSolution:\\033[0m \\nThe resulting hydraulic Conductivity at 20°C is {} m/s\\nand the resulting hydraulic conductivity at 25°C is {} m/s\".format(K1,K2))"
   ]
  },
  {
   "cell_type": "markdown",
   "metadata": {},
   "source": [
    "#### Examplary Problem on hydraulic conductivity and sieve analysis (2)\n",
    "\n",
    "```{note}\n",
    "**See the units:**<br>\n",
    "lpd = liter per day $\\rightarrow$ you must convert the hydraulic conductivity into $\\frac{m^3}{s \\cdot m^2}$\n",
    "```\n",
    "\n",
    "2. If the laboratory hydraulic conductivity of a sample of soil is $3.2 \\times 10^{2}$ $\\frac{lpd}{m^2}$ at $20°C$. What would be the hydraulic conductivity value at $30°C$?\n"
   ]
  },
  {
   "cell_type": "code",
   "execution_count": 34,
   "metadata": {},
   "outputs": [
    {
     "name": "stdout",
     "output_type": "stream",
     "text": [
      "\u001b[1mProvided are:\u001b[0m\n",
      "hydraulic conductivity at 20°C = 320.0 lpd/m²\n",
      "Temperature 1 = 20 °C\n",
      "Temperature 2 = 30 °C \n",
      "\n",
      "\u001b[1mSolution:\u001b[0m \n",
      "The resulting hydraulic Conductivity at 30°C is 4.558e-06 m/s\n"
     ]
    }
   ],
   "source": [
    "K = 3.2e+2 # hydraulic conductivity at 20°C [lpd/m^2]\n",
    "T1 = 20 # Temperature [°C]\n",
    "T2 = 30 # temperature  [°C]\n",
    "\n",
    "#intermediate calculation\n",
    "K1= K/(1000 * 3600 * 24) #convert into m/s\n",
    "\n",
    "#solution\n",
    "d10 = (K1/(0.0116 * (0.7 + 0.03 * T1 )))**0.5\n",
    "K2 = 0.0116 * d10**2 * (0.7 + 0.03*T2)\n",
    "print(\"\\033[1mProvided are:\\033[0m\")\n",
    "print(\"hydraulic conductivity at 20°C = {} lpd/m\\u00b2\\nTemperature 1 = {} °C\\nTemperature 2 = {} °C\".format(K, T1, T2),\"\\n\")\n",
    "print(\"\\033[1mSolution:\\033[0m \\nThe resulting hydraulic Conductivity at 30°C is {0:.3e} m/s\".format(K2))"
   ]
  },
  {
   "cell_type": "markdown",
   "metadata": {},
   "source": [
    "### Hydraulic Conductivities estimations from Darcy's Law ###\n",
    "\n",
    "**Permeameter** is an instrument used to determine hydraulic conductivity of soil samples \n",
    "in the laboratory as _direct method_. The design of permeameters is based on Darcy‘s\n",
    "experiment. \n",
    "\n",
    "\n",
    "<a href=\"fig4\"></a><img src=\"images/L4_f4.png\" alt=\"Permeameter\" width=\"250px\" height=\"600px\" align=right>\n",
    "\n",
    "    \n",
    "There are mainly two types of permeameters\n",
    "1. Constant-head permeameter, and \n",
    "2. Falling-head permeameter. \n"
   ]
  },
  {
   "cell_type": "markdown",
   "metadata": {},
   "source": [
    "In **constant-head permeameters** as shown in Figure <a href=\"fig5\">Constant-head Permeameter</a>, the hydraulic heads at inflow and outflow of the Darcy column are\n",
    "constant in time. As a consequence, the discharge is not changing with time. \n",
    "\n",
    "<a href=\"fig5\"></a><img src=\"images/L4_f5.png\" alt=\"Constant-head-Permeameter\" width=\"250px\" height=\"600px\">\n",
    "\n",
    "```{margin} Where\n",
    "$Q$ =discharge[L$^3$T$^{-1}$]<br>\n",
    "$L$ = length of sample [L] <br>\n",
    "$A$ = cross-sectional area of sample [L$^2$] <br>\n",
    "$h_{in}$ = hydraulic head at inlet [L]<br>\n",
    "$h_{out}$ = hydraulic head at outlet [L]<br>\n",
    "$\\Delta h$ = $h_{in} - h_{out}$\n",
    "```\n",
    "\n",
    "The\n",
    "hydraulic conductivity can be obtained by observing discharge and heads and then\n",
    "substituting in the below formula that is rearranged form of Darcy’s law from:\n",
    "\n",
    "$$\n",
    "K = \\frac{QL}{A(h_{in}- h_{out}}\n",
    "$$\n",
    "\n",
    "```{admonition} Tip\n",
    ":class: tip\n",
    "$h_{out}$ can be set equal to zero as only head differences are important.\n",
    "```"
   ]
  },
  {
   "cell_type": "markdown",
   "metadata": {},
   "source": [
    "#### Examplary Problem on constant-head permeameter\n",
    "\n",
    "A constant-head permeameter has a length of $15$ $cm$ and a cross-sectional area of $25$ $cm^2$. With a head of $5$ $cm$, a total Volume of $100$ $mL$ of water is collected in $12$ $min$.\n",
    "\n",
    "Determine the hydraulic conductivity."
   ]
  },
  {
   "cell_type": "code",
   "execution_count": 46,
   "metadata": {},
   "outputs": [
    {
     "name": "stdout",
     "output_type": "stream",
     "text": [
      "\u001b[1mProvided are:\u001b[0m\n",
      "Length of the permeameter = 15 cm\n",
      "cross-sectional area = 25 cm²\n",
      "hydraulic head = 5 cm \n",
      "Volume = 100 mL \n",
      "time = 12 min \n",
      "\n",
      "\u001b[1mSolution:\u001b[0m\n",
      "The resulting hydraulic Conductivity is 1.0 cm/min\n",
      "and in m/s it is 0.00017\n"
     ]
    }
   ],
   "source": [
    "print(\"\\033[1mProvided are:\\033[0m\")\n",
    "\n",
    "L = 15 # Length of the permeameter [cm]\n",
    "A = 25 # cross-sectional area [cm^2]\n",
    "h = 5 # hydraulic head [cm]\n",
    "V = 100 # Volume of collected water [mL = cm^3]\n",
    "t = 12 # time [min]\n",
    "\n",
    "#solution\n",
    "K1 = (V * L)/(A * t * h)\n",
    "K2 = K1/(60*100)\n",
    "\n",
    "print(\"Length of the permeameter = {} cm\\ncross-sectional area = {} cm\\u00b2\\nhydraulic head = {} cm \\nVolume = {} mL \\ntime = {} min\".format(L,A,h,V,t),\"\\n\")\n",
    "print(\"\\033[1mSolution:\\033[0m\\nThe resulting hydraulic Conductivity is {} cm/min\\nand in m/s it is {:02.5f}\".format(K1,K2))"
   ]
  },
  {
   "cell_type": "markdown",
   "metadata": {},
   "source": [
    "In **falling-head permeameter** as shown in Figure <a href=\"fig6\">Falling-head Permeameter</a>, the hydraulic head at the outflow of\n",
    "the Darcy column is not changing, but the hydraulic head at the inflow is decreasing\n",
    "with time. \n",
    "\n",
    "<a href=\"fig6\"></a><img src=\"images/L4_f6.png\" alt=\"Falling-head-Permeameter\" width=\"250px\" height=\"600px\">\n",
    "\n",
    "As a result, the discharge also decreases with time. Rewriting Darcy's law for a small time interval\n",
    "\n",
    "```{margin} Where\n",
    "$L$ = length of sample [L]<br> \n",
    "$d_c$ = diameter of sample cylinder [L]<br>\n",
    "$d_t$ = diameter of piezometer tube [L] <br>\n",
    "$h_{in}(0)$ = initial hydraulic head at column inlet [L] <br>\n",
    "$h_{in}(t)$ = final hydraulic head at column inlet [L] <br> \n",
    "$h_{out}$ = hydraulic head at column outlet [L] <br>\n",
    "$h_0 = h_{in}(0) - h_{out}$ <br> \n",
    "$h = h_{in}(t) - h_{out}$\n",
    "\n",
    "```\n",
    "$$ K \\frac{\\pi d_c^2}{4}\\big(h_{in} - h_{out}\\big)\\frac{1}{L}\\text{d}t = \\frac{\\pi d_t^2}{4}\\text{d}h $$\n",
    "\n",
    "$K$ can be obtained from the above equation by separating the variables and then integrating. The resulting expression for $K$ will be\n",
    "\n",
    "$$ K = \\frac{d_t^2 L}{d_c^2}\\ln \\Bigg(\\frac{h_{in}(0) - h_{out}}{h_{in}(t)-h_{out}}\\Bigg) $$\n",
    "\n",
    "```{admonition} Tip\n",
    ":class: tip\n",
    "and $h_{out}$ can be set equal to zero as only head differences are important.\n",
    "```\n",
    "\n",
    "The hydraulic conductivity can be obtained from the above equation using observed time and corresponding heads. Larger experimental time periods are needed for the falling-head permeameter, in particular if hydraulic conductivity is low. On the other hand, no measurement of discharge or water volume is required."
   ]
  },
  {
   "cell_type": "markdown",
   "metadata": {},
   "source": [
    "#### Examplary Problem on falling-head permeameter\n",
    "\n",
    "A falling-head permeameter has a tube diameter of $2$ $cm$, a sample diameter of $10$ $cm$ and a flow length of $15$ $cm$. The initial head is $5$ $cm$ and it falls over a period of $500$ $min$ to $0,5$ $cm$.\n",
    "\n",
    "Determine the hydraulic conductivity. "
   ]
  },
  {
   "cell_type": "code",
   "execution_count": 40,
   "metadata": {},
   "outputs": [
    {
     "name": "stdout",
     "output_type": "stream",
     "text": [
      "Let us find the hydraulic conductivity with a falling-head permeameter.\n",
      "\n",
      "\u001b[1mProvided are:\u001b[0m\n",
      "diameter of the tube = 2 cm\n",
      "diameter of the sample = 10 cm\n",
      "length = 15 cm \n",
      "initial head = 5cm \n",
      "time = 500 min \n",
      "head after time period = 0.5 cm \n",
      "\n",
      "\u001b[1mSolution:\u001b[0m\n",
      "The resulting hydraulic Conductivity is 0.0028 cm/min\n",
      "and in m/s it is 2.763e-03\n"
     ]
    }
   ],
   "source": [
    "import numpy as np\n",
    "\n",
    "print(\"Let us find the hydraulic conductivity with a falling-head permeameter.\\n\\n\\033[1mProvided are:\\033[0m\")\n",
    "\n",
    "dt = 2 # tube diameter [cm]\n",
    "dc = 10 # sample diameter [cm]\n",
    "L = 15 # flow length [cm]\n",
    "ho = 5 # initial head [cm]\n",
    "t = 500 # time [min]\n",
    "h = 0.5 # head after a specific time t [cm] \n",
    "\n",
    "#solution\n",
    "K1 = (dt**2 * L)/(dc**2 *t)* np.log(ho/h)\n",
    "K2 = K1/(60*100)\n",
    "\n",
    "print(\"diameter of the tube = {} cm\\ndiameter of the sample = {} cm\\nlength = {} cm \\ninitial head = {}cm \\ntime = {} min \\nhead after time period = {} cm\".format(dt,dc,L,ho,t,h),\"\\n\")\n",
    "print(\"\\033[1mSolution:\\033[0m\\nThe resulting hydraulic Conductivity is {0:.4f} cm/min\\nand in m/s it is {0:.3e}\".format(K1,K2))"
   ]
  },
  {
   "cell_type": "markdown",
   "metadata": {},
   "source": [
    "**Field methods** of determination of the hydraulic conductivity include tracer tests, auger hole tests, pumping tests of wells, etc. Field experiments are much more complicated and expensive than laboratory tests. Resulting hydraulic conductivities represent averages over an aquifer volume, which is covered by the experiment. The size of this\n",
    "volume depends on subsurface properties and on the experimental method used."
   ]
  },
  {
   "cell_type": "markdown",
   "metadata": {},
   "source": [
    "### Intrinsic Permeability ###\n",
    "\n",
    "A convenient alternative is to write Darcy's equation in a form of **intrinsic permeability**\n",
    "where the properties of the medium and the fluid are represented explicitly\n",
    "\n",
    "$$\n",
    "v = \\frac{-k \\cdot \\rho\\cdot g}{\\mu}\\frac{\\partial h}{\\partial L}\n",
    "$$\n",
    "\n",
    "where, $k$ is the intrinsic permeability [L$^2$], and $\\eta$ is the dynamic viscosity of fluid [ML$^{-1}$T$^{-1}$] e.g., (Pa-S). The relation between _hydraulic conductivity_ _intrinsic permeability_, therefore, is\n",
    "\n",
    "$$\n",
    "K = k\\cdot \\frac{ \\rho \\cdot g}{\\eta}\n",
    "$$\n",
    "\n",
    "In terms of Kinematic viscosity [L$^2$T$^{-1}$], $\\eta = \\rho \\cdot \\nu$, the above relation becomes\n",
    "\n",
    "$$\n",
    "K = k\\cdot \\frac{ g}{\\nu}\n",
    "$$\n",
    "\n",
    "Both density and viscosity are temperature dependent quantites. Their values in field conditions $\\approx 10 ^\\circ$C and in the laboratory conditions $\\approx 20 ^\\circ$C are:\n",
    "\n",
    "\n",
    "|                            | 10°C        | 20°C         |\n",
    "|----------------------------|-------------|--------------|\n",
    "| density (kg/m$^3$)      | 999.7       | 999.7        |\n",
    "| kinematic viscosity (m$^2$/s) | 1.3101·10$^{-6}$ | 1.0105·100$^{-6}$ |\n",
    "| ynamic viscosity (Pa$\\cdot$s)  | 1.3097·10$^{-3}$ | 1.3097·100$^{-3}$  |\n",
    "|||\n",
    "\n",
    "\n",
    "The _intrinsic permeability_ can be written in terms of specific weight or weight density [ML$^{-2}$T$^{-2}$] (or in metric unit- N/m$^3$), $\\gamma = \\rho\\cdot g$ as\n",
    "\n",
    "$$\n",
    "k = \\frac{\\eta}{\\gamma}K\n",
    "$$"
   ]
  },
  {
   "cell_type": "markdown",
   "metadata": {},
   "source": [
    "#### Examplary Problem on intrinsic permeability\n",
    "\n",
    "The intrinsic permeability of a consolidated rock is $2,7 \\times 10^{-11} cm^2$.\n",
    "\n",
    "What is the hydraulic conductivity for water at $20°C$"
   ]
  },
  {
   "cell_type": "code",
   "execution_count": 45,
   "metadata": {},
   "outputs": [
    {
     "name": "stdout",
     "output_type": "stream",
     "text": [
      "Let us find the hydraulic conductivity.\n",
      "\n",
      "\u001b[1mProvided are:\u001b[0m\n",
      "intrinsic permeability = 2.7e-15 m²\n",
      "density = 999.7 kg/m³\n",
      "dynamic viscosity = 0.013097 Pa*s \n",
      "\n",
      "\u001b[1mSolution:\u001b[0m\n",
      "The resulting hydraulic conductivity at 20°C is 2.0218e-09 m/s\n"
     ]
    }
   ],
   "source": [
    "print(\"Let us find the hydraulic conductivity.\\n\\n\\033[1mProvided are:\\033[0m\")\n",
    "\n",
    "k = 2.7e-15 # intrinsic permeability [m^2]\n",
    "rho = 999.7 # density at 20°C [kg/m^3]\n",
    "eta = 0.013097 # dynamic viscosity at 20°C [Pa*s]\n",
    "g = 9.81 # [m/s^2]\n",
    "\n",
    "# solution\n",
    "K = k * ((rho * g)/eta)\n",
    "\n",
    "print(\"intrinsic permeability = {} m\\u00b2\\ndensity = {} kg/m\\u00b3\\ndynamic viscosity = {} Pa*s\".format(k, rho, eta),\"\\n\")\n",
    "print(\"\\033[1mSolution:\\033[0m\\nThe resulting hydraulic conductivity at 20°C is {0:.4e} m/s\".format(K))"
   ]
  },
  {
   "cell_type": "markdown",
   "metadata": {},
   "source": [
    "#### Properties of Intrinsic Permeability ###\n",
    "\n",
    "- The value of intrinsic permeability of a porous medium\n",
    "equals 1 m$^2$ if a fluid with dynamic viscosity of 1 Pa$\\cdot$s can pass through the porous\n",
    "medium at a Darcy velocity of 1 m/s under a hydrostatic pressure gradient of 1 Pa/m\n",
    "(horizontal flow).\n",
    "\n",
    "- The intrinsic permeability is _independent_ of the fluid moving through the medium and depends only upon the medium properties. Intrinsic\n",
    "permeability of unconsolidated porous media is roughly proportional to the square of\n",
    "the pore diameter.\n",
    "\n",
    "- The intrinsic permeability is used primarily when the density or the viscosity of the\n",
    "fluid varies with position.\n",
    "\n",
    "- The dimension of $k$ is [L$^2$], but when expressed in m$^2$ is so small that square\n",
    "micrometers ($\\mu$ m)$^2  = 10^{-12}$ m$^2$ is used. In the petroleum industry it is expressed in **Darcy**\n",
    "(symbol: D) with conversion factor to SI units is:  1 D $= 0.987\\cdot 10^{-12}$ m$^2$. \n",
    "\n",
    "- Intrinsic permeability for a weakly , well and\n",
    "highly permeable aquifers vary in the range 10$^{-4}$ to 10$^{-1}$ D, 10$^{-1}$ to 10$^2$ D, and $> 10^2$ D\n",
    "respectively\n",
    "\n",
    "- Typical value of conductivity and intrinsic permeability is  provided in the figure (from Todd and Mays, 2004) below.\n",
    "\n",
    "\n",
    "<a href=\"fig7\"></a><img src=\"images/L4_f7.png\" alt=\"K and k\" width=\"700px\" height=\"600px\">"
   ]
  },
  {
   "cell_type": "markdown",
   "metadata": {},
   "source": [
    "## Darcy velocity and Interstitial velocity ##\n",
    "\n",
    "Darcy velocity $v$ is the _apparent velocity_ or _fictitious velocity_ or _Darcy flux_ (discharge per\n",
    "unit area). This value of velocity, often referred to as the _apparent velocity_, is not the\n",
    "velocity which the water traveling through the pores is experiencing. The velocity $v$ is\n",
    "referred to as the Darcy velocity because it assumes that flow occurs through the entire cross section of the material without regard to solids and pores. Actually water can flow\n",
    "though pores only and the pore spaces vary continuously with location within the\n",
    "medium. Therefore the actual velocity is nonuniform, involving endless accelerations,\n",
    "deceleration, and changes in direction. To define the _actual flow velocity_ or **interstitial\n",
    "velocity**, one must consider the microstructure of the rock material. \n",
    "\n",
    "For naturally occurring geologic materials, the microstructure cannot be specified three-\n",
    "dimensionally; hence, actual velocities can only be quantified statistically.\n",
    "\n",
    "<a href=\"fig8\"></a><img src=\"images/L4_f8.png\" alt=\"v and v_s\" width=\"300px\" height=\"600px\">\n",
    "\n",
    "Actually, the flow is limited to the pores (white spaces in Figure) only so that the\n",
    "_average interstitial velocity_ or _actual velocity_ or _seepage velocity_ $(v_s)$ through pore space\n",
    "can be determined by applying continuity equation\n",
    "\n",
    "$$\n",
    "Q = A_s\\cdot v_s = Av\n",
    "$$ \n",
    "Leading to \n",
    "\n",
    "$$\n",
    "v_s = v\\frac{A}{A_s} = \\frac{v}{\\nu_e}\n",
    "$$\n",
    "\n",
    "where $A$ = total area of soil specimen, and $A_s$ = area of pores only (see Figure). The velocity\n",
    "is divided by effective porosity ($\\nu_e$) to account for the fact that only a fraction of the total aquifer\n",
    "volume is available for flow. This indicates that for a sand with a porosity of 33% the $v_s\n",
    "= 3 v$. Thus the average interstitial velocity or seepage velocity or linear velocity through\n",
    "pore space is never smaller than Darcy velocity. Sometimes, the average flow velocity of\n",
    "water in the pore space is termed _linear velocity_. "
   ]
  },
  {
   "cell_type": "markdown",
   "metadata": {},
   "source": [
    "#### Examplary Problem on Darcy-velocity and intrinsic-velocity\n",
    "\n",
    "\n",
    "A confined aquifer is $18.5$ $m$ thick. The potentiometric surface elevations at two observation wells $822$ $m$ apart $25.96$ $m$ and $24.62$ $m$. If the horizontal hydraulic conductivity of the aquifer is $25$ $\\frac{m}{day}$, determine flow rate per unit width of the aquifer, specific discharge, and average linear velocity of the flow assuming steady unidirectional flow. Effective porosity is $0.25$."
   ]
  },
  {
   "cell_type": "code",
   "execution_count": 56,
   "metadata": {},
   "outputs": [
    {
     "name": "stdout",
     "output_type": "stream",
     "text": [
      "Let us find the searched values.\n",
      "\n",
      "\u001b[1mProvided are:\u001b[0m\n",
      "Layer thickness  is 18.5 m\n",
      "Observation well distance is 822 m\n",
      "Potentiometric surface elevation at well 1 is 25.96 m\n",
      "Potentiometric surface elevation at well 2 is 24.62 m\n",
      "Hydraulic conductivity is 25 m/d\n",
      "Effective porosity is 0.25\n",
      "\n",
      "\u001b[1mSolution:\u001b[0m\n",
      "The flow rate per unit width is 0.754 m³/d \n",
      "The specific discharge is 0.754 m/d and \n",
      "The average linear velocity is 0.754 m/d\n"
     ]
    }
   ],
   "source": [
    "print(\"Let us find the searched values.\\n\\n\\033[1mProvided are:\\033[0m\")\n",
    "\n",
    "m = 18.5 # thickness [m]\n",
    "L = 822 # Distance from the observation wells [m]\n",
    "h1 = 25.96 # potentiometric surface elevation at well 1 [m] \n",
    "h2 = 24.62 # potentiometric surface elevation at well 1 [m]\n",
    "K = 25 # hydraulic conductivity [m/d]\n",
    "ne = 0.25 #effective porosity\n",
    "\n",
    "#intermediate calculation\n",
    "deltah = h1-h2\n",
    "A = m * 1\n",
    "\n",
    "#flow rate per unit width\n",
    "Q = A * K * (deltah / L)\n",
    "\n",
    "#specific discharge \n",
    "v = K * (deltah / L)\n",
    "\n",
    "#average linear velocity\n",
    "vs = v/ne\n",
    "\n",
    "print(\"Layer thickness  is {} m\\nObservation well distance is {} m\\nPotentiometric surface elevation at well 1 is {} m\\nPotentiometric surface elevation at well 2 is {} m\".format(m, L, h1, h2))\n",
    "print(\"Hydraulic conductivity is {} m/d\\nEffective porosity is {}\\n\".format(K, ne))\n",
    "print(\"\\033[1mSolution:\\033[0m\\nThe flow rate per unit width is {0:.3f} m\\u00b3/d \\nThe specific discharge is {0:.3f} m/d and \\nThe average linear velocity is {0:.3f} m/d\".format(Q, v, vs))"
   ]
  },
  {
   "cell_type": "markdown",
   "metadata": {},
   "source": [
    "### Typical values of linear velocities ### \n",
    "\n",
    "Typical values for average interstitial velocities or linear velocities in unconsolidated aquifers are 0.5 $\\frac{m}{d}$ to 1 $\\frac{m}{d}$ and 30\n",
    "$\\frac{m}{d}$ to 300 $\\frac{m}{d}$ in sand and gravel respectively. \n",
    "\n",
    "Linear velocities in fractured or\n",
    "karstified aquifers can be rather high along fractures or conduits e.g. 200 $\\frac{m}{d}$ to 1.2\n",
    "$\\frac{km}{d}$ along fractures and 3 $\\frac{km}{d}$ to 14 $\\frac{km}{d}$ in karst conduits. \n",
    "\n",
    "On the contrary, the\n",
    "linear velocities are very low in the rock matrix of consolidated aquifers (1 $\\frac{cm}{d}$ or\n",
    "even less)."
   ]
  },
  {
   "cell_type": "markdown",
   "metadata": {},
   "source": [
    "### Travel time and Pore volume ### \n",
    "\n",
    "The average linear/pore velocity is the velocity a conservative tracer/dye experiences if\n",
    "carried by water through the aquifer. \n",
    "\n",
    "The travel time of water through a column of\n",
    "length $L$ is given by \n",
    "\n",
    "$$\n",
    "t = \\frac{L}{v_{s}}\n",
    "$$\n",
    "\n",
    "It is to be noted that the linear/seepage velocity $v_s$ has to be used in travel time computation, not the Darcy velocity. The term _residence time_ is can also be found to be used for referring to _travel time_ .\n",
    "\n",
    "Yet another important term that is often found in standard texts is _pore volume_. The _pore volume is the travel time through a column. It can be understood as the _time_ needed to replace the water in the column. In this sense, the pore volume is not a _volume_ but a _time_ (i.e., 1 PV corresponds to the ratio $\\frac{L}{v_{s}}$ ). The pore volume (PV) is frequently used for _normalisation_ purposes in order to better compare column\n",
    "experiments conducted under different flow velocities. This is mostly done for studying the transport behaviour of chemicals dissolved in water and their arrivals at the column outlets"
   ]
  },
  {
   "cell_type": "markdown",
   "metadata": {},
   "source": [
    "#### Exemplary Problem on linear velocity\n",
    "\n",
    "In a tracer test, the breaktrought was measured after $100$ $h$ at a distance of $200$ $m$.\n",
    "\n",
    "Determine the linear velocity and the pore volume and what is the darcy velocity, if there is an effective porosity of $0,25$."
   ]
  },
  {
   "cell_type": "code",
   "execution_count": 54,
   "metadata": {},
   "outputs": [
    {
     "name": "stdout",
     "output_type": "stream",
     "text": [
      "Let us find the linear velocity, the pore volume and the darcy verlocity.\n",
      "\n",
      "\u001b[1mProvided are:\u001b[0m\n",
      "travel time of water = 100 s\n",
      "Length = 200 m²\n",
      "effective porosity = 0.25  \n",
      "\n",
      "\u001b[1mSolution:\u001b[0m\n",
      "The linear velocity is 2.0 m/h \n",
      "The pore volume is 100.0 s, and \n",
      "The darcy velocity is 0.5 m/h\n"
     ]
    }
   ],
   "source": [
    "print(\"Let us find the linear velocity, the pore volume and the darcy verlocity.\\n\\n\\033[1mProvided are:\\033[0m\")\n",
    "\n",
    "t = 100 # travel time of water [h]\n",
    "L = 200 # Distance from injection to measurement [m]\n",
    "ne = 0.25 # effective porosity [-] \n",
    "\n",
    "\n",
    "#solution\n",
    "vs = L / t\n",
    "PV = L / vs\n",
    "v = vs * ne\n",
    "\n",
    "print(\"travel time of water = {} s\\nLength = {} m\\u00b2\\neffective porosity = {} \".format(t, L, ne),\"\\n\")\n",
    "print(\"\\033[1mSolution:\\033[0m\\nThe linear velocity is {} m/h \\nThe pore volume is {} s, and \\nThe darcy velocity is {} m/h\".format(vs, PV, v))"
   ]
  },
  {
   "cell_type": "code",
   "execution_count": null,
   "metadata": {},
   "outputs": [],
   "source": []
  }
 ],
 "metadata": {
  "kernelspec": {
   "display_name": "Python 3",
   "language": "python",
   "name": "python3"
  },
  "language_info": {
   "codemirror_mode": {
    "name": "ipython",
    "version": 3
   },
   "file_extension": ".py",
   "mimetype": "text/x-python",
   "name": "python",
   "nbconvert_exporter": "python",
   "pygments_lexer": "ipython3",
   "version": "3.7.2"
  }
 },
 "nbformat": 4,
 "nbformat_minor": 4
}
